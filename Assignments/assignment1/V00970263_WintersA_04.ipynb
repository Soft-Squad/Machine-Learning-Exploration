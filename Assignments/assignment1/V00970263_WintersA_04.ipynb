{
 "cells": [
  {
   "cell_type": "markdown",
   "id": "e6f2031d",
   "metadata": {},
   "source": [
    "## Winters, Alexander (V00970263)\n",
    "\n",
    "# Problem 4. SK Learn"
   ]
  },
  {
   "cell_type": "markdown",
   "id": "f1feea89",
   "metadata": {},
   "source": [
    "### Sources:"
   ]
  },
  {
   "cell_type": "markdown",
   "id": "331ba580",
   "metadata": {},
   "source": [
    "https://scikit-learn.org/stable/modules/tree.html#tree\n",
    "\n",
    "https://scikit-learn.org/stable/modules/generated/sklearn.tree.DecisionTreeClassifier.html#sklearn.tree.DecisionTreeClassifier"
   ]
  },
  {
   "cell_type": "code",
   "execution_count": 1,
   "id": "1dd187dc",
   "metadata": {},
   "outputs": [],
   "source": [
    "import numpy as np\n",
    "np.random.seed(1337)"
   ]
  },
  {
   "cell_type": "code",
   "execution_count": 2,
   "id": "eb64a2af",
   "metadata": {},
   "outputs": [],
   "source": [
    "import pandas as pd\n",
    "# Plotting support\n",
    "import matplotlib.pyplot as plt\n",
    "%matplotlib inline\n",
    "import seaborn as sns"
   ]
  },
  {
   "cell_type": "code",
   "execution_count": 3,
   "id": "10c6f7a1",
   "metadata": {},
   "outputs": [],
   "source": [
    "from sklearn.model_selection import train_test_split\n",
    "from sklearn import tree\n",
    "from sklearn.metrics import accuracy_score, zero_one_loss"
   ]
  },
  {
   "cell_type": "code",
   "execution_count": 4,
   "id": "1c357ade",
   "metadata": {},
   "outputs": [
    {
     "data": {
      "text/plain": [
       "Index(['votes', 'unemployment', 'med_hh_inc', 'per_capita_inc',\n",
       "       'poverty_all_ages', 'deep_pov_all', 'deep_pov_children', 'population',\n",
       "       'total_area', 'pop_density', 'total_male', 'total_female',\n",
       "       'voter_turnout', 'democrat', 'county', 'state', 'education', 'religion',\n",
       "       'age_young', 'age_adult', 'age_old', 'ethnic_male', 'ethnic_female'],\n",
       "      dtype='object')"
      ]
     },
     "execution_count": 4,
     "metadata": {},
     "output_type": "execute_result"
    }
   ],
   "source": [
    "elections_df = pd.read_csv('elections_clean.csv')\n",
    "elections_df.columns"
   ]
  },
  {
   "cell_type": "code",
   "execution_count": 5,
   "id": "fd807cfe",
   "metadata": {},
   "outputs": [],
   "source": [
    "# Get the label vector\n",
    "label_vector = elections_df.pop('democrat')\n",
    "\n",
    "# Take only the categorial features\n",
    "categorial_features = ['education', 'religion', 'ethnic_male', 'ethnic_female']\n",
    "\n",
    "# We only want the categorial features and our label vector\n",
    "elections_df = elections_df[categorial_features]\n",
    "# One-hot encoding of the categorial_features\n",
    "elections_df = pd.get_dummies(elections_df, categorial_features)\n",
    "elections_df['democrat'] = label_vector"
   ]
  },
  {
   "cell_type": "code",
   "execution_count": 6,
   "id": "bc32acb6",
   "metadata": {},
   "outputs": [
    {
     "name": "stdout",
     "output_type": "stream",
     "text": [
      "The training accuracy of the Decision-Tree: 90.82235347569286 %\n",
      "The training error of the Decision-Tree: 9.177646524307137 %\n",
      "\n",
      "The validation accuracy of the Decision-Tree: 87.8177966101695 %\n",
      "The validation error of the Decision-Tree: 12.182203389830503 %\n",
      "\n",
      "Maximum Depth of Decision-Tree is: 17\n"
     ]
    }
   ],
   "source": [
    "# Split the data 70/30\n",
    "X_train, X_test, Y_train, Y_test = train_test_split(elections_df.drop('democrat', axis=1), elections_df['democrat'], train_size=0.7)\n",
    "# Generate decision tree\n",
    "DTree = tree.DecisionTreeClassifier(criterion='entropy')\n",
    "# Train the decision tree\n",
    "DTree.fit(X_train, Y_train)\n",
    "\n",
    "# Train and Test prediciton\n",
    "train_prediction = DTree.predict(X_train) \n",
    "test_prediction = DTree.predict(X_test)\n",
    "\n",
    "# Calculate accuracy and error for training and testing data\n",
    "train_acc = accuracy_score(Y_train, train_prediction) * 100.0 \n",
    "train_err = zero_one_loss(Y_train, train_prediction) * 100.0\n",
    "\n",
    "test_acc = accuracy_score(Y_test, test_prediction) * 100.0 \n",
    "test_err = zero_one_loss(Y_test, test_prediction) * 100.0 \n",
    "\n",
    "print(\"The training accuracy of the Decision-Tree: \" + str(train_acc) + \" %\")\n",
    "print(\"The training error of the Decision-Tree: \" + str(train_err) + \" %\\n\")\n",
    "\n",
    "print(\"The validation accuracy of the Decision-Tree: \" + str(test_acc) + \" %\")\n",
    "print(\"The validation error of the Decision-Tree: \" + str(test_err) + \" %\\n\")\n",
    "\n",
    "max_depth = DTree.get_depth()\n",
    "print(\"Maximum Depth of Decision-Tree is: \" + str(max_depth))"
   ]
  },
  {
   "cell_type": "code",
   "execution_count": 7,
   "id": "53d0fef3",
   "metadata": {},
   "outputs": [],
   "source": [
    "import graphviz\n",
    "dot_data = tree.export_graphviz(DTree, out_file=None,\n",
    "                               feature_names=elections_df.columns.name,\n",
    "                               filled=True, rounded=True,\n",
    "                               special_characters=True)\n",
    "graph = graphviz.Source(dot_data)\n",
    "# graph.render(\"elections\") # Renders the graph into a .pdf\n",
    "# graph # Renders inside jupyter-notebook"
   ]
  },
  {
   "cell_type": "markdown",
   "id": "478f89b5",
   "metadata": {},
   "source": [
    "Comparing this Decision-Tree to the one built from scratch in Problem 2, the prediciton accuracy of the two trees are very similar. However, the max depth of the trees significanly differ. Since max depth depends strongly on the implementation and parametrization, I'm assuming that my implementation have impure leaves. Hence, sklearn expands all nodes until leaves are pure (unless otherwise specified). \n",
    "\n",
    "Furthermore, both implementations have similar accuracy due to having the same features to split on and using entropy based splitting. "
   ]
  }
 ],
 "metadata": {
  "kernelspec": {
   "display_name": "Python 3 (ipykernel)",
   "language": "python",
   "name": "python3"
  },
  "language_info": {
   "codemirror_mode": {
    "name": "ipython",
    "version": 3
   },
   "file_extension": ".py",
   "mimetype": "text/x-python",
   "name": "python",
   "nbconvert_exporter": "python",
   "pygments_lexer": "ipython3",
   "version": "3.10.6"
  }
 },
 "nbformat": 4,
 "nbformat_minor": 5
}
