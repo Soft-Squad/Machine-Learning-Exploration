{
 "cells": [
  {
   "cell_type": "markdown",
   "id": "877bf42c",
   "metadata": {},
   "source": [
    "## Winters, Alexander (V00970263)\n",
    "\n",
    "# Problem 2. Support Machines"
   ]
  },
  {
   "cell_type": "markdown",
   "id": "387865ec",
   "metadata": {},
   "source": [
    "### Sources:\n",
    "\n",
    "https://scikit-learn.org/stable/auto_examples/svm/plot_svm_margin.html\n",
    "\n",
    "https://scikit-learn.org/stable/modules/generated/sklearn.svm.SVC.html"
   ]
  },
  {
   "cell_type": "code",
   "execution_count": 1,
   "id": "1a0cb8a6",
   "metadata": {},
   "outputs": [],
   "source": [
    "import numpy as np\n",
    "np.random.seed(1337)"
   ]
  },
  {
   "cell_type": "code",
   "execution_count": 2,
   "id": "997b73bb",
   "metadata": {},
   "outputs": [],
   "source": [
    "# Plotting support\n",
    "import matplotlib.pyplot as plt\n",
    "%matplotlib inline\n",
    "import seaborn as sns"
   ]
  },
  {
   "cell_type": "code",
   "execution_count": 3,
   "id": "5c108ea1",
   "metadata": {},
   "outputs": [],
   "source": [
    "from keras.datasets import mnist\n",
    "from sklearn import svm, metrics\n",
    "import time"
   ]
  },
  {
   "cell_type": "markdown",
   "id": "6e75d46d",
   "metadata": {},
   "source": [
    "## 2.1 Hard-Margin"
   ]
  },
  {
   "cell_type": "code",
   "execution_count": 4,
   "id": "e5124258",
   "metadata": {},
   "outputs": [
    {
     "name": "stdout",
     "output_type": "stream",
     "text": [
      "Hard-Margin SVM\n",
      "\n",
      "Training Accuracy: 100.00% Training Error: 0.00%\n",
      "Test Accuracy: 99.17% Test Error: 0.83%\n",
      "Total Time: 1.55s\n"
     ]
    }
   ],
   "source": [
    "(train_X, train_y), (test_X, test_y) = mnist.load_data()\n",
    "\n",
    "# Get a specific digit from mnist: \n",
    "# https://stackoverflow.com/questions/51202181/how-do-i-select-only-a-specific-digit-from-the-mnist-dataset-provided-by-keras\n",
    "train_X = train_X[(np.where((train_y == 7) | (train_y == 1))[0])]\n",
    "train_y = train_y[(np.where((train_y == 7) | (train_y == 1))[0])]\n",
    "\n",
    "test_X = test_X[(np.where((test_y == 7) | (test_y == 1))[0])]\n",
    "test_y = test_y[(np.where((test_y == 7) | (test_y == 1))[0])]\n",
    "\n",
    "# Reshape images for .fit()\n",
    "train_X = np.reshape(train_X, (train_X.shape[0], 784))\n",
    "test_X = np.reshape(test_X, (test_X.shape[0], 784))\n",
    "\n",
    "clf = svm.SVC(kernel='linear', C=1000) # As C increases, the margin deceases == Hard SVM\n",
    "# Start timer\n",
    "hard_start = time.time()\n",
    "clf.fit(train_X, train_y)\n",
    "\n",
    "train_pred = clf.predict(train_X)\n",
    "test_pred = clf.predict(test_X)\n",
    "\n",
    "train_acc = metrics.accuracy_score(train_y, train_pred) * 100\n",
    "train_err = metrics.zero_one_loss(train_y, train_pred) * 100\n",
    "test_acc = metrics.accuracy_score(test_y, test_pred) * 100\n",
    "test_err = metrics.zero_one_loss(test_y, test_pred) * 100\n",
    "\n",
    "print(\"Hard-Margin SVM\\n\")\n",
    "print(\"Training Accuracy: {:.2f}% Training Error: {:.2f}%\".format(train_acc, train_err))\n",
    "print(\"Test Accuracy: {:.2f}% Test Error: {:.2f}%\".format(test_acc, test_err))\n",
    "print(\"Total Time: {:.2f}s\".format(time.time() - hard_start))"
   ]
  },
  {
   "cell_type": "markdown",
   "id": "e94603f6",
   "metadata": {},
   "source": [
    "Somewhat surprisingly, the hard-margin svm classifier is very good with ~99% accuracy. I did not know the data was linerably seperable, and thus, it performs so well. "
   ]
  },
  {
   "cell_type": "markdown",
   "id": "ed3dbd7d",
   "metadata": {},
   "source": [
    "## 2.2 Soft-Margin"
   ]
  },
  {
   "cell_type": "code",
   "execution_count": 5,
   "id": "5d0ef8f9",
   "metadata": {},
   "outputs": [],
   "source": [
    "from sklearn.model_selection import GridSearchCV, KFold"
   ]
  },
  {
   "cell_type": "code",
   "execution_count": 6,
   "id": "33919f6c",
   "metadata": {},
   "outputs": [
    {
     "name": "stdout",
     "output_type": "stream",
     "text": [
      "Fitting 5 folds for each of 3 candidates, totalling 15 fits\n",
      "[CV 1/5; 1/3] START C=0.1, kernel=linear........................................\n",
      "[CV 1/5; 1/3] END .........C=0.1, kernel=linear;, score=0.995 total time=   0.8s\n",
      "[CV 2/5; 1/3] START C=0.1, kernel=linear........................................\n",
      "[CV 2/5; 1/3] END .........C=0.1, kernel=linear;, score=0.994 total time=   0.7s\n",
      "[CV 3/5; 1/3] START C=0.1, kernel=linear........................................\n",
      "[CV 3/5; 1/3] END .........C=0.1, kernel=linear;, score=0.994 total time=   0.7s\n",
      "[CV 4/5; 1/3] START C=0.1, kernel=linear........................................\n",
      "[CV 4/5; 1/3] END .........C=0.1, kernel=linear;, score=0.994 total time=   0.7s\n",
      "[CV 5/5; 1/3] START C=0.1, kernel=linear........................................\n",
      "[CV 5/5; 1/3] END .........C=0.1, kernel=linear;, score=0.994 total time=   0.7s\n",
      "[CV 1/5; 2/3] START C=0.001, kernel=linear......................................\n",
      "[CV 1/5; 2/3] END .......C=0.001, kernel=linear;, score=0.995 total time=   0.8s\n",
      "[CV 2/5; 2/3] START C=0.001, kernel=linear......................................\n",
      "[CV 2/5; 2/3] END .......C=0.001, kernel=linear;, score=0.994 total time=   0.7s\n",
      "[CV 3/5; 2/3] START C=0.001, kernel=linear......................................\n",
      "[CV 3/5; 2/3] END .......C=0.001, kernel=linear;, score=0.994 total time=   0.7s\n",
      "[CV 4/5; 2/3] START C=0.001, kernel=linear......................................\n",
      "[CV 4/5; 2/3] END .......C=0.001, kernel=linear;, score=0.994 total time=   0.7s\n",
      "[CV 5/5; 2/3] START C=0.001, kernel=linear......................................\n",
      "[CV 5/5; 2/3] END .......C=0.001, kernel=linear;, score=0.994 total time=   0.7s\n",
      "[CV 1/5; 3/3] START C=1e-05, kernel=linear......................................\n",
      "[CV 1/5; 3/3] END .......C=1e-05, kernel=linear;, score=0.996 total time=   0.8s\n",
      "[CV 2/5; 3/3] START C=1e-05, kernel=linear......................................\n",
      "[CV 2/5; 3/3] END .......C=1e-05, kernel=linear;, score=0.996 total time=   0.8s\n",
      "[CV 3/5; 3/3] START C=1e-05, kernel=linear......................................\n",
      "[CV 3/5; 3/3] END .......C=1e-05, kernel=linear;, score=0.996 total time=   0.8s\n",
      "[CV 4/5; 3/3] START C=1e-05, kernel=linear......................................\n",
      "[CV 4/5; 3/3] END .......C=1e-05, kernel=linear;, score=0.993 total time=   0.7s\n",
      "[CV 5/5; 3/3] START C=1e-05, kernel=linear......................................\n",
      "[CV 5/5; 3/3] END .......C=1e-05, kernel=linear;, score=0.995 total time=   0.7s\n",
      "\n",
      "Soft-Margin SVM with Best Hyperparameter C: 1e-05\n",
      "\n",
      "Training Accuracy: 99.95% Training Error: 0.05%\n",
      "Test Accuracy: 99.31% Test Error: 0.69%\n",
      "Total Time: 14.23s\n"
     ]
    }
   ],
   "source": [
    "(train_X, train_y), (test_X, test_y) = mnist.load_data()\n",
    "\n",
    "# Get a specific digit from mnist: \n",
    "# https://stackoverflow.com/questions/51202181/how-do-i-select-only-a-specific-digit-from-the-mnist-dataset-provided-by-keras\n",
    "train_X = train_X[(np.where((train_y == 7) | (train_y == 1))[0])]\n",
    "train_y = train_y[(np.where((train_y == 7) | (train_y == 1))[0])]\n",
    "\n",
    "test_X = test_X[(np.where((test_y == 7) | (test_y == 1))[0])]\n",
    "test_y = test_y[(np.where((test_y == 7) | (test_y == 1))[0])]\n",
    "\n",
    "# Reshape images for .fit()\n",
    "train_X = np.reshape(train_X, (train_X.shape[0], 784))\n",
    "test_X = np.reshape(test_X, (test_X.shape[0], 784))\n",
    "\n",
    "params = {'C': [0.1, 0.001, 0.00001], 'kernel': ['linear']}\n",
    "\n",
    "soft_start = time.time()\n",
    "models = GridSearchCV(estimator=svm.SVC(), param_grid=params, cv=KFold(5), verbose=10)\n",
    "results = models.fit(train_X, train_y)\n",
    "\n",
    "best_C = results.best_params_['C']\n",
    "\n",
    "train_pred = results.best_estimator_.predict(train_X)\n",
    "test_pred = results.best_estimator_.predict(test_X)\n",
    "\n",
    "train_acc = metrics.accuracy_score(train_y, train_pred) * 100\n",
    "train_err = metrics.zero_one_loss(train_y, train_pred) * 100\n",
    "test_acc = metrics.accuracy_score(test_y, test_pred) * 100\n",
    "test_err = metrics.zero_one_loss(test_y, test_pred) * 100\n",
    "\n",
    "print(\"\\nSoft-Margin SVM with Best Hyperparameter C: \" + str(best_C) + \"\\n\")\n",
    "print(\"Training Accuracy: {:.2f}% Training Error: {:.2f}%\".format(train_acc, train_err))\n",
    "print(\"Test Accuracy: {:.2f}% Test Error: {:.2f}%\".format(test_acc, test_err))\n",
    "print(\"Total Time: {:.2f}s\".format(time.time() - soft_start))"
   ]
  },
  {
   "cell_type": "markdown",
   "id": "4f648ae7",
   "metadata": {},
   "source": [
    "The results for the soft-margin svm classifier, are marginally better with again ~99% accuracy. The cross-validation provided the best C hyperparameter: with a value of 0.00001. "
   ]
  },
  {
   "cell_type": "markdown",
   "id": "73c1e98b",
   "metadata": {},
   "source": [
    "## 2.3 Kernel"
   ]
  },
  {
   "cell_type": "markdown",
   "id": "12fcb705",
   "metadata": {},
   "source": [
    "### a) Polynomial"
   ]
  },
  {
   "cell_type": "code",
   "execution_count": 7,
   "id": "18b33384",
   "metadata": {},
   "outputs": [],
   "source": [
    "from sklearn.model_selection import GridSearchCV, KFold"
   ]
  },
  {
   "cell_type": "code",
   "execution_count": 10,
   "id": "6769b62a",
   "metadata": {},
   "outputs": [
    {
     "name": "stdout",
     "output_type": "stream",
     "text": [
      "Fitting 2 folds for each of 9 candidates, totalling 18 fits\n",
      "[CV 1/2; 1/9] START C=1e-05, degree=1, gamma=1.0, kernel=poly...................\n",
      "[CV 1/2; 1/9] END C=1e-05, degree=1, gamma=1.0, kernel=poly;, score=0.995 total time=   0.4s\n",
      "[CV 2/2; 1/9] START C=1e-05, degree=1, gamma=1.0, kernel=poly...................\n",
      "[CV 2/2; 1/9] END C=1e-05, degree=1, gamma=1.0, kernel=poly;, score=0.994 total time=   0.3s\n",
      "[CV 1/2; 2/9] START C=1e-05, degree=1, gamma=0.1, kernel=poly...................\n",
      "[CV 1/2; 2/9] END C=1e-05, degree=1, gamma=0.1, kernel=poly;, score=0.996 total time=   0.5s\n",
      "[CV 2/2; 2/9] START C=1e-05, degree=1, gamma=0.1, kernel=poly...................\n",
      "[CV 2/2; 2/9] END C=1e-05, degree=1, gamma=0.1, kernel=poly;, score=0.995 total time=   0.4s\n",
      "[CV 1/2; 3/9] START C=1e-05, degree=1, gamma=0.001, kernel=poly.................\n",
      "[CV 1/2; 3/9] END C=1e-05, degree=1, gamma=0.001, kernel=poly;, score=0.989 total time=   2.8s\n",
      "[CV 2/2; 3/9] START C=1e-05, degree=1, gamma=0.001, kernel=poly.................\n",
      "[CV 2/2; 3/9] END C=1e-05, degree=1, gamma=0.001, kernel=poly;, score=0.988 total time=   2.7s\n",
      "[CV 1/2; 4/9] START C=1e-05, degree=2, gamma=1.0, kernel=poly...................\n",
      "[CV 1/2; 4/9] END C=1e-05, degree=2, gamma=1.0, kernel=poly;, score=0.996 total time=   0.6s\n",
      "[CV 2/2; 4/9] START C=1e-05, degree=2, gamma=1.0, kernel=poly...................\n",
      "[CV 2/2; 4/9] END C=1e-05, degree=2, gamma=1.0, kernel=poly;, score=0.995 total time=   0.5s\n",
      "[CV 1/2; 5/9] START C=1e-05, degree=2, gamma=0.1, kernel=poly...................\n",
      "[CV 1/2; 5/9] END C=1e-05, degree=2, gamma=0.1, kernel=poly;, score=0.996 total time=   0.6s\n",
      "[CV 2/2; 5/9] START C=1e-05, degree=2, gamma=0.1, kernel=poly...................\n",
      "[CV 2/2; 5/9] END C=1e-05, degree=2, gamma=0.1, kernel=poly;, score=0.995 total time=   0.5s\n",
      "[CV 1/2; 6/9] START C=1e-05, degree=2, gamma=0.001, kernel=poly.................\n",
      "[CV 1/2; 6/9] END C=1e-05, degree=2, gamma=0.001, kernel=poly;, score=0.996 total time=   0.6s\n",
      "[CV 2/2; 6/9] START C=1e-05, degree=2, gamma=0.001, kernel=poly.................\n",
      "[CV 2/2; 6/9] END C=1e-05, degree=2, gamma=0.001, kernel=poly;, score=0.995 total time=   0.5s\n",
      "[CV 1/2; 7/9] START C=1e-05, degree=3, gamma=1.0, kernel=poly...................\n",
      "[CV 1/2; 7/9] END C=1e-05, degree=3, gamma=1.0, kernel=poly;, score=0.995 total time=   0.7s\n",
      "[CV 2/2; 7/9] START C=1e-05, degree=3, gamma=1.0, kernel=poly...................\n",
      "[CV 2/2; 7/9] END C=1e-05, degree=3, gamma=1.0, kernel=poly;, score=0.994 total time=   0.5s\n",
      "[CV 1/2; 8/9] START C=1e-05, degree=3, gamma=0.1, kernel=poly...................\n",
      "[CV 1/2; 8/9] END C=1e-05, degree=3, gamma=0.1, kernel=poly;, score=0.995 total time=   0.7s\n",
      "[CV 2/2; 8/9] START C=1e-05, degree=3, gamma=0.1, kernel=poly...................\n",
      "[CV 2/2; 8/9] END C=1e-05, degree=3, gamma=0.1, kernel=poly;, score=0.994 total time=   0.5s\n",
      "[CV 1/2; 9/9] START C=1e-05, degree=3, gamma=0.001, kernel=poly.................\n",
      "[CV 1/2; 9/9] END C=1e-05, degree=3, gamma=0.001, kernel=poly;, score=0.995 total time=   0.8s\n",
      "[CV 2/2; 9/9] START C=1e-05, degree=3, gamma=0.001, kernel=poly.................\n",
      "[CV 2/2; 9/9] END C=1e-05, degree=3, gamma=0.001, kernel=poly;, score=0.994 total time=   0.5s\n",
      "\n",
      "Polynomial SVM with Best Hyperparameter Degree: 2 and Gamma: 1.0\n",
      "Training Accuracy: 100.00% Training Error: 0.00%\n",
      "Test Accuracy: 99.45% Test Error: 0.55%\n",
      "Total Time: 17.62s\n"
     ]
    }
   ],
   "source": [
    "(train_X, train_y), (test_X, test_y) = mnist.load_data()\n",
    "\n",
    "# Get a specific digit from mnist: \n",
    "# https://stackoverflow.com/questions/51202181/how-do-i-select-only-a-specific-digit-from-the-mnist-dataset-provided-by-keras\n",
    "train_X = train_X[(np.where((train_y == 7) | (train_y == 1))[0])]\n",
    "train_y = train_y[(np.where((train_y == 7) | (train_y == 1))[0])]\n",
    "\n",
    "test_X = test_X[(np.where((test_y == 7) | (test_y == 1))[0])]\n",
    "test_y = test_y[(np.where((test_y == 7) | (test_y == 1))[0])]\n",
    "\n",
    "# Reshape images for .fit()\n",
    "train_X = np.reshape(train_X, (train_X.shape[0], 784))\n",
    "test_X = np.reshape(test_X, (test_X.shape[0], 784))\n",
    "\n",
    "# 2 is usually the best\n",
    "params = {'C': [1e-5], 'kernel': ['poly'], 'degree': [1, 2, 3], 'gamma': [1., 0.1, 0.001]}\n",
    "\n",
    "poly_start = time.time()\n",
    "poly_models = GridSearchCV(estimator=svm.SVC(), param_grid=params, cv=KFold(2), verbose=10)\n",
    "results = poly_models.fit(train_X, train_y)\n",
    "\n",
    "best_deg = results.best_params_['degree']\n",
    "best_gamma = results.best_params_['gamma']\n",
    "\n",
    "train_pred = results.best_estimator_.predict(train_X)\n",
    "test_pred = results.best_estimator_.predict(test_X)\n",
    "\n",
    "train_acc = metrics.accuracy_score(train_y, train_pred) * 100\n",
    "train_err = metrics.zero_one_loss(train_y, train_pred) * 100\n",
    "test_acc = metrics.accuracy_score(test_y, test_pred) * 100\n",
    "test_err = metrics.zero_one_loss(test_y, test_pred) * 100\n",
    "\n",
    "print(\"\\nPolynomial SVM with Best Hyperparameter Degree: {} and Gamma: {}\".format(best_deg, best_gamma))\n",
    "print(\"Training Accuracy: {:.2f}% Training Error: {:.2f}%\".format(train_acc, train_err))\n",
    "print(\"Test Accuracy: {:.2f}% Test Error: {:.2f}%\".format(test_acc, test_err))\n",
    "print(\"Total Time: {:.2f}s\".format(time.time() - poly_start))"
   ]
  },
  {
   "cell_type": "markdown",
   "id": "ac2b1f40",
   "metadata": {},
   "source": [
    "### b) RBF"
   ]
  },
  {
   "cell_type": "code",
   "execution_count": 11,
   "id": "9e2d22f3",
   "metadata": {},
   "outputs": [],
   "source": [
    "from sklearn.model_selection import GridSearchCV, KFold"
   ]
  },
  {
   "cell_type": "code",
   "execution_count": 12,
   "id": "c0b457af",
   "metadata": {},
   "outputs": [
    {
     "name": "stdout",
     "output_type": "stream",
     "text": [
      "Fitting 2 folds for each of 3 candidates, totalling 6 fits\n",
      "[CV 1/2; 1/3] START C=1e-05, gamma=1.0, kernel=rbf..............................\n",
      "[CV 1/2; 1/3] END C=1e-05, gamma=1.0, kernel=rbf;, score=0.524 total time=  34.4s\n",
      "[CV 2/2; 1/3] START C=1e-05, gamma=1.0, kernel=rbf..............................\n",
      "[CV 2/2; 1/3] END C=1e-05, gamma=1.0, kernel=rbf;, score=0.512 total time=  32.9s\n",
      "[CV 1/2; 2/3] START C=1e-05, gamma=0.1, kernel=rbf..............................\n",
      "[CV 1/2; 2/3] END C=1e-05, gamma=0.1, kernel=rbf;, score=0.524 total time=  33.6s\n",
      "[CV 2/2; 2/3] START C=1e-05, gamma=0.1, kernel=rbf..............................\n",
      "[CV 2/2; 2/3] END C=1e-05, gamma=0.1, kernel=rbf;, score=0.512 total time=  32.7s\n",
      "[CV 1/2; 3/3] START C=1e-05, gamma=0.001, kernel=rbf............................\n",
      "[CV 1/2; 3/3] END C=1e-05, gamma=0.001, kernel=rbf;, score=0.524 total time=  33.6s\n",
      "[CV 2/2; 3/3] START C=1e-05, gamma=0.001, kernel=rbf............................\n",
      "[CV 2/2; 3/3] END C=1e-05, gamma=0.001, kernel=rbf;, score=0.512 total time=  32.8s\n",
      "\n",
      "RBF SVM with Best Hyperparameter Gamma: 1.0\n",
      "Training Accuracy: 51.83% Training Error: 48.17%\n",
      "Test Accuracy: 52.47% Test Error: 47.53%\n",
      "Total Time: 350.46s\n"
     ]
    }
   ],
   "source": [
    "(train_X, train_y), (test_X, test_y) = mnist.load_data()\n",
    "\n",
    "# Get a specific digit from mnist: \n",
    "# https://stackoverflow.com/questions/51202181/how-do-i-select-only-a-specific-digit-from-the-mnist-dataset-provided-by-keras\n",
    "train_X = train_X[(np.where((train_y == 7) | (train_y == 1))[0])]\n",
    "train_y = train_y[(np.where((train_y == 7) | (train_y == 1))[0])]\n",
    "\n",
    "test_X = test_X[(np.where((test_y == 7) | (test_y == 1))[0])]\n",
    "test_y = test_y[(np.where((test_y == 7) | (test_y == 1))[0])]\n",
    "\n",
    "# Reshape images for .fit()\n",
    "train_X = np.reshape(train_X, (train_X.shape[0], 784))\n",
    "test_X = np.reshape(test_X, (test_X.shape[0], 784))\n",
    "\n",
    "params = {'C': [1e-5], 'kernel': ['rbf'], 'gamma': [1., 0.1, 0.001]}\n",
    "\n",
    "rbf_start = time.time()\n",
    "rbf_models = GridSearchCV(estimator=svm.SVC(), param_grid=params, cv=KFold(2), verbose=10)\n",
    "results = rbf_models.fit(train_X, train_y)\n",
    "\n",
    "best_gam = results.best_params_['gamma']\n",
    "\n",
    "train_pred = results.best_estimator_.predict(train_X)\n",
    "test_pred = results.best_estimator_.predict(test_X)\n",
    "\n",
    "train_acc = metrics.accuracy_score(train_y, train_pred) * 100\n",
    "train_err = metrics.zero_one_loss(train_y, train_pred) * 100\n",
    "test_acc = metrics.accuracy_score(test_y, test_pred) * 100\n",
    "test_err = metrics.zero_one_loss(test_y, test_pred) * 100\n",
    "\n",
    "print(\"\\nRBF SVM with Best Hyperparameter Gamma: \" + str(best_gam))\n",
    "print(\"Training Accuracy: {:.2f}% Training Error: {:.2f}%\".format(train_acc, train_err))\n",
    "print(\"Test Accuracy: {:.2f}% Test Error: {:.2f}%\".format(test_acc, test_err))\n",
    "print(\"Total Time: {:.2f}s\".format(time.time() - rbf_start))"
   ]
  },
  {
   "cell_type": "markdown",
   "id": "720d3210",
   "metadata": {},
   "source": [
    "### c) Linear"
   ]
  },
  {
   "cell_type": "code",
   "execution_count": 13,
   "id": "92e5a8b9",
   "metadata": {},
   "outputs": [],
   "source": [
    "from sklearn.model_selection import GridSearchCV, KFold"
   ]
  },
  {
   "cell_type": "code",
   "execution_count": 14,
   "id": "4a3c9ba7",
   "metadata": {},
   "outputs": [
    {
     "name": "stdout",
     "output_type": "stream",
     "text": [
      "Fitting 2 folds for each of 1 candidates, totalling 2 fits\n",
      "[CV 1/2; 1/1] START C=1e-05, kernel=linear......................................\n",
      "[CV 1/2; 1/1] END .......C=1e-05, kernel=linear;, score=0.995 total time=   0.4s\n",
      "[CV 2/2; 1/1] START C=1e-05, kernel=linear......................................\n",
      "[CV 2/2; 1/1] END .......C=1e-05, kernel=linear;, score=0.994 total time=   0.3s\n",
      "\n",
      "Linear SVM with Best Hyperparameter C: 1e-05\n",
      "Training Accuracy: 99.95% Training Error: 0.05%\n",
      "Test Accuracy: 99.31% Test Error: 0.69%\n",
      "Total Time: 2.53s\n"
     ]
    }
   ],
   "source": [
    "(train_X, train_y), (test_X, test_y) = mnist.load_data()\n",
    "\n",
    "# Get a specific digit from mnist: \n",
    "# https://stackoverflow.com/questions/51202181/how-do-i-select-only-a-specific-digit-from-the-mnist-dataset-provided-by-keras\n",
    "train_X = train_X[(np.where((train_y == 7) | (train_y == 1))[0])]\n",
    "train_y = train_y[(np.where((train_y == 7) | (train_y == 1))[0])]\n",
    "\n",
    "test_X = test_X[(np.where((test_y == 7) | (test_y == 1))[0])]\n",
    "test_y = test_y[(np.where((test_y == 7) | (test_y == 1))[0])]\n",
    "\n",
    "# Reshape images for .fit()\n",
    "train_X = np.reshape(train_X, (train_X.shape[0], 784))\n",
    "test_X = np.reshape(test_X, (test_X.shape[0], 784))\n",
    "\n",
    "params = {'C': [1e-5], 'kernel': ['linear']}\n",
    "\n",
    "linear_start = time.time()\n",
    "linear_models = GridSearchCV(estimator=svm.SVC(), param_grid=params, cv=KFold(2), verbose=10)\n",
    "results = linear_models.fit(train_X, train_y)\n",
    "\n",
    "train_pred = results.best_estimator_.predict(train_X)\n",
    "test_pred = results.best_estimator_.predict(test_X)\n",
    "\n",
    "train_acc = metrics.accuracy_score(train_y, train_pred) * 100\n",
    "train_err = metrics.zero_one_loss(train_y, train_pred) * 100\n",
    "test_acc = metrics.accuracy_score(test_y, test_pred) * 100\n",
    "test_err = metrics.zero_one_loss(test_y, test_pred) * 100\n",
    "\n",
    "print(\"\\nLinear SVM with Best Hyperparameter C: \" + str(1e-5))\n",
    "print(\"Training Accuracy: {:.2f}% Training Error: {:.2f}%\".format(train_acc, train_err))\n",
    "print(\"Test Accuracy: {:.2f}% Test Error: {:.2f}%\".format(test_acc, test_err))\n",
    "print(\"Total Time: {:.2f}s\".format(time.time() - linear_start))"
   ]
  },
  {
   "cell_type": "markdown",
   "id": "3f08a5a0",
   "metadata": {},
   "source": [
    "## 2.4 AVA"
   ]
  },
  {
   "cell_type": "code",
   "execution_count": 15,
   "id": "227b7558",
   "metadata": {},
   "outputs": [],
   "source": [
    "import pandas as pd"
   ]
  },
  {
   "cell_type": "code",
   "execution_count": 16,
   "id": "45a570c8",
   "metadata": {},
   "outputs": [
    {
     "data": {
      "image/png": "[encoded data removed]",
      "text/plain": [
       "<Figure size 1000x1000 with 2 Axes>"
      ]
     },
     "metadata": {},
     "output_type": "display_data"
    },
    {
     "name": "stdout",
     "output_type": "stream",
     "text": [
      "\n",
      "AVA with Best Hyperparameters C: 1e-05, Degree: 2, and Gamma: 1.0\n",
      "Test Accuracy: 1.00% Test Error: 0.00%\n",
      "Total Time: 181.49s\n"
     ]
    }
   ],
   "source": [
    "(train_X, train_y), (test_X, test_y) = mnist.load_data()\n",
    "\n",
    "# Best hyperparameters\n",
    "best_C = 1e-5\n",
    "best_deg = 2\n",
    "best_gam = 1.0\n",
    "\n",
    "# 0 - 9\n",
    "num_classes = 10\n",
    "\n",
    "# Initialize 10x10 array with 0's\n",
    "heatmap = np.zeros((10, 10))\n",
    "\n",
    "ava_start = time.time()\n",
    "\n",
    "for i in range(num_classes):\n",
    "    for j in range(num_classes):\n",
    "        # If a class is equal to itself make it equal 1\n",
    "        if i == j:\n",
    "            heatmap[i][j] = 1.\n",
    "            continue\n",
    "        \n",
    "        # Get a specific digit from mnist: \n",
    "        # https://stackoverflow.com/questions/51202181/how-do-i-select-only-a-specific-digit-from-the-mnist-dataset-provided-by-keras\n",
    "        train_X_tmp = train_X[(np.where((train_y == i) | (train_y == j))[0])]\n",
    "        train_y_tmp = train_y[(np.where((train_y == i) | (train_y == j))[0])]\n",
    "\n",
    "        test_X_tmp = test_X[(np.where((test_y == i) | (test_y == j))[0])]\n",
    "        test_y_tmp = test_y[(np.where((test_y == i) | (test_y == j))[0])]\n",
    "\n",
    "        # Reshape images for .fit()\n",
    "        train_X_tmp = np.reshape(train_X_tmp, (train_X_tmp.shape[0], 784))\n",
    "        test_X_tmp = np.reshape(test_X_tmp, (test_X_tmp.shape[0], 784))\n",
    "    \n",
    "        # Use our best kernal from above with the best parameters\n",
    "        clf = svm.SVC(kernel='poly', C=best_C, degree=best_deg, gamma=best_gam)\n",
    "        clf.fit(train_X_tmp, train_y_tmp)\n",
    "\n",
    "        y_pred = clf.predict(test_X_tmp)\n",
    "\n",
    "        acc = metrics.accuracy_score(test_y_tmp, y_pred)\n",
    "        err = metrics.zero_one_loss(test_y_tmp, y_pred)\n",
    "        heatmap[i][j] = acc\n",
    "\n",
    "plt.subplots(figsize=(10, 10))\n",
    "columns = list(range(0, 10))\n",
    "result = pd.DataFrame(heatmap, columns, columns)\n",
    "sns.heatmap(result, annot_kws={'size': 10}, annot=True)\n",
    "plt.xlabel(\"Predicted\")\n",
    "plt.ylabel(\"True\")\n",
    "plt.show()\n",
    "\n",
    "print(\"\\nAVA with Best Hyperparameters C: {}, Degree: {}, and Gamma: {}\".format(best_C, best_deg, best_gam))\n",
    "print(\"Test Accuracy: {:.2f}% Test Error: {:.2f}%\".format(acc, err))\n",
    "print(\"Total Time: {:.2f}s\".format(time.time() - ava_start))"
   ]
  }
 ],
 "metadata": {
  "kernelspec": {
   "display_name": "Python 3 (ipykernel)",
   "language": "python",
   "name": "python3"
  },
  "language_info": {
   "codemirror_mode": {
    "name": "ipython",
    "version": 3
   },
   "file_extension": ".py",
   "mimetype": "text/x-python",
   "name": "python",
   "nbconvert_exporter": "python",
   "pygments_lexer": "ipython3",
   "version": "3.10.8"
  }
 },
 "nbformat": 4,
 "nbformat_minor": 5
}
