{
 "cells": [
  {
   "cell_type": "markdown",
   "id": "3c7553c7",
   "metadata": {},
   "source": [
    "## Winters, Alexander (V00970263)\n",
    "\n",
    "# Problem 1. The American Handwriting"
   ]
  },
  {
   "cell_type": "markdown",
   "id": "bcdd85f7",
   "metadata": {},
   "source": [
    "### Sources:"
   ]
  },
  {
   "cell_type": "markdown",
   "id": "b07db930",
   "metadata": {},
   "source": [
    "https://deepnotes.io/softmax-crossentropy\n",
    "\n",
    "https://www.kdnuggets.com/2019/11/build-artificial-neural-network-scratch-part-1.html\n",
    "\n",
    "https://www.kdnuggets.com/2020/03/build-artificial-neural-network-scratch-part-2.html\n",
    "\n",
    "https://mlfromscratch.com/neural-network-tutorial/#/\n",
    "\n",
    "https://www.youtube.com/watch?v=w8yWXqWQYmU\n",
    "\n",
    "https://keras.io/api/\n",
    "\n",
    "https://keras.io/examples/vision/mnist_convnet/\n",
    "\n",
    "https://machinelearningmastery.com/grid-search-hyperparameters-deep-learning-models-python-keras/\n",
    "\n",
    "https://github.com/Soft-Squad/kNN-kMeans-Softmax/blob/main/src/softmax.py My work from CSC421"
   ]
  },
  {
   "cell_type": "markdown",
   "id": "67cf94d5",
   "metadata": {},
   "source": [
    "## 1.1 Derivative"
   ]
  },
  {
   "cell_type": "markdown",
   "id": "a5570b19",
   "metadata": {},
   "source": [
    "Given the softmax function:\n",
    "\\begin{equation}\n",
    "f(x)_i = \\frac{e^{x_i}}{\\sum_j e^{x_j}}\n",
    "\\end{equation}\n",
    "\n",
    "The quotient rule $f(x) = \\frac{g(x)}{h(x)}$ gives us: \n",
    "\n",
    "\\begin{equation}\n",
    "f'(x) = \\frac{g'(x)h(x) - h'(x)g(x)}{h(x)^2}\n",
    "\\end{equation}\n",
    "\n",
    "Where $g(x) = e^{x_i}$ and $h(x) = \\sum_j e^{x_j}$\n",
    "\n",
    "Thus, $h(x)$ will always be $e^{x_j}$\n",
    "\n",
    "However, $g(x)$ will only be $e^{x_i}$ if $i=j$, otherwise it's $0$.\n",
    "\n",
    "Hence,\n",
    "If $i=j$,\n",
    "\n",
    "\\begin{align}\n",
    "\\frac{\\partial  \\frac{e^{x_i}}{\\sum_k e^{x_k}}}{\\partial x_j}&= \\frac{e^{x_i} \\sum_j e^{x_k} - e^{x_j}e^{x_i}}{\\left( \\sum_k e^{x_k}\\right)^2} \\\\\n",
    "&= \\frac{e^{x_i} \\left( \\sum_k e^{x_k} - e^{x_j}\\right )}{\\left( \\sum_k e^{x_k}\\right)^2} \\\\\n",
    "&= \\frac{ e^{x_j} }{\\sum_k e^{x_k} } \\times \\frac{\\left( \\sum_k e^{x_k} - e^{x_j}\\right ) }{\\sum_k e^{x_k} } \\\\\n",
    "&= p_i(1-p_j)\n",
    "\\end{align}\n",
    "\n",
    "For $i\\neq j$,\n",
    "\n",
    "\\begin{align}\n",
    "\\frac{\\partial  \\frac{e^{x_i}}{\\sum_k e^{x_k}}}{\\partial x_j}&= \\frac{0 - e^{x_j}e^{x_i}}{\\left( \\sum_k e^{x_k}\\right)^2} \\\\\n",
    "&= \\frac{- e^{x_j} }{\\sum_k e^{x_k} } \\times \\frac{e^{x_i} }{\\sum_k e^{x_k} } \\\\\n",
    "&= - p_j.p_i\n",
    "\\end{align}\n",
    "\n",
    "Therefore, the derivative of the softmax function is,\n",
    "\\begin{align}\n",
    "\\frac{\\partial p_i}{\\partial a_j} = \n",
    "\\begin{cases}p_i(1-p_j) &  if & i=j \\\\\n",
    "-p_j.p_i & if & i \\neq j\n",
    "\\end{cases}\n",
    "\\end{align}\n",
    "\n",
    "or, \n",
    "\\begin{align}\n",
    "f'(x)_i= \n",
    "\\begin{cases}\n",
    "f(x)_i(1 - f(x)_i) & i = j\\\\-f(x)_if(x)_j & i \\neq j\n",
    "\\end{cases}\n",
    "\\end{align}"
   ]
  },
  {
   "cell_type": "markdown",
   "id": "9cc1e75d",
   "metadata": {},
   "source": [
    "# Note: You must run the 3 cells below, and then skip to 1.3 - 1.6. Next, run 1.2, and lastly run 1.7.\n",
    "\n",
    "#### Problem: \n",
    " I tensorflow/core/platform/cpu_feature_guard.cc:151] This TensorFlow binary is optimized with oneAPI Deep Neural Network Library (oneDNN) to use the following CPU instructions in performance-critical operations:  AVX2\n",
    "To enable them in other operations, rebuild TensorFlow with the appropriate compiler flags.\n",
    "<br>\n",
    "OMP: Error #15: Initializing libiomp5, but found libiomp5md.dll already initialized.\n",
    "<br>\n",
    "OMP: Hint This means that multiple copies of the OpenMP runtime have been linked into the program. That is dangerous, since it can degrade performance or cause incorrect results. The best thing to do is to ensure that only a single OpenMP runtime is linked into the process, e.g. by avoiding static linking of the OpenMP runtime in any library. As an unsafe, unsupported, undocumented workaround you can set the environment variable KMP_DUPLICATE_LIB_OK=TRUE to allow the program to continue to execute, but that may cause crashes or silently produce incorrect results. For more information, please see http://openmp.llvm.org/"
   ]
  },
  {
   "cell_type": "code",
   "execution_count": 1,
   "id": "9c595593",
   "metadata": {},
   "outputs": [],
   "source": [
    "global misclassified_images\n",
    "misclassified_images = {}"
   ]
  },
  {
   "cell_type": "code",
   "execution_count": 2,
   "id": "fa2f44e1",
   "metadata": {},
   "outputs": [],
   "source": [
    "import numpy as np\n",
    "np.random.seed(1337)"
   ]
  },
  {
   "cell_type": "code",
   "execution_count": 3,
   "id": "874e564b",
   "metadata": {
    "scrolled": true
   },
   "outputs": [],
   "source": [
    "# Plotting support\n",
    "import matplotlib.pyplot as plt\n",
    "%matplotlib inline\n",
    "import seaborn as sns"
   ]
  },
  {
   "cell_type": "markdown",
   "id": "3c773edb",
   "metadata": {},
   "source": [
    "## 1.2 Simple Neural Network"
   ]
  },
  {
   "cell_type": "code",
   "execution_count": 17,
   "id": "c01fe12d",
   "metadata": {},
   "outputs": [],
   "source": [
    "from keras.datasets import mnist\n",
    "from tensorflow.keras.utils import to_categorical\n",
    "import keras\n",
    "import time"
   ]
  },
  {
   "cell_type": "code",
   "execution_count": 18,
   "id": "77b1e513",
   "metadata": {},
   "outputs": [
    {
     "name": "stdout",
     "output_type": "stream",
     "text": [
      "Train Shapes: (60000, 28, 28) (60000,)\n",
      "Test Shapes: (10000, 28, 28) (10000,)\n"
     ]
    }
   ],
   "source": [
    "(train_X, train_y), (test_X, test_y) = mnist.load_data()\n",
    "print(\"Train Shapes:\", train_X.shape, train_y.shape)\n",
    "print(\"Test Shapes:\", test_X.shape, test_y.shape)"
   ]
  },
  {
   "cell_type": "code",
   "execution_count": 19,
   "id": "b5cdd94c",
   "metadata": {},
   "outputs": [],
   "source": [
    "def sample_split(train_X, train_y):\n",
    "    # Take the total number of images\n",
    "    N = train_X.shape[0]\n",
    "    \n",
    "    # Create random batches of 128 samples\n",
    "    idx = np.random.randint(0, N, size=128)\n",
    "    batch_X = train_X[idx].reshape((-1, 784)) # train_X batch\n",
    "    batch_y = train_y[idx] # train_y batch\n",
    "    # One-hot encoding of the labels\n",
    "    labels = np.zeros((len(batch_y), 10), np.float64)\n",
    "    labels[np.arange(len(batch_y)), batch_y] = 1\n",
    "    \n",
    "    return batch_X, batch_y, labels"
   ]
  },
  {
   "cell_type": "code",
   "execution_count": 20,
   "id": "4404d132",
   "metadata": {},
   "outputs": [],
   "source": [
    "def sigmoid(z):\n",
    "    return 1. / (1 + np.exp(-z))"
   ]
  },
  {
   "cell_type": "code",
   "execution_count": 21,
   "id": "50984ff8",
   "metadata": {},
   "outputs": [],
   "source": [
    "def sigmoid_prime(z):\n",
    "    return sigmoid(z) * (1 - sigmoid(z))"
   ]
  },
  {
   "cell_type": "code",
   "execution_count": 22,
   "id": "c99111fd",
   "metadata": {},
   "outputs": [],
   "source": [
    "def softmax(z):\n",
    "    # Prevents nan and inf values\n",
    "    exponents = np.exp(z - np.max(z))\n",
    "    \n",
    "    return exponents / np.sum(exponents, axis=0)"
   ]
  },
  {
   "cell_type": "code",
   "execution_count": 23,
   "id": "ddc50b3a",
   "metadata": {},
   "outputs": [],
   "source": [
    "def softmax_prime(z):\n",
    "    return softmax(z) * (1 - softmax(z))"
   ]
  },
  {
   "cell_type": "code",
   "execution_count": 24,
   "id": "25bc3018",
   "metadata": {},
   "outputs": [],
   "source": [
    "def forward_pass(X, hidden_weights, output_weights):\n",
    "    output = {}\n",
    "    \n",
    "    output['hidden_weights'] = np.dot(X, hidden_weights)\n",
    "    output['hidden_activation'] = sigmoid(output['hidden_weights'])\n",
    "    \n",
    "    output['output_weights'] = np.dot(output['hidden_activation'], output_weights)\n",
    "    output['output_activation'] = softmax(output['output_weights'])\n",
    "    \n",
    "    return output"
   ]
  },
  {
   "cell_type": "code",
   "execution_count": 25,
   "id": "84b7d49c",
   "metadata": {},
   "outputs": [],
   "source": [
    "def back_propagation(X, y, output, output_weights):\n",
    "    weight_changes = {}\n",
    "    \n",
    "    error = 2 * (output['output_activation'] - y) / output['output_activation'].shape[0] * softmax_prime(output['output_weights'])\n",
    "    weight_changes['output'] = np.matmul(output['hidden_activation'], error)\n",
    "    \n",
    "    error = (np.dot(output_weights, error.T)).T * sigmoid_prime(output['hidden_weights'])\n",
    "    weight_changes['hidden'] = np.matmul(X.T, error)\n",
    "    \n",
    "    return weight_changes"
   ]
  },
  {
   "cell_type": "code",
   "execution_count": 26,
   "id": "11d21c29",
   "metadata": {},
   "outputs": [],
   "source": [
    "def gradient_descent(old_hw, old_ow, hw_adjustments, ow_adjustments, lr):\n",
    "    new_hw = old_hw - lr * hw_adjustments\n",
    "    new_ow = old_ow - lr * ow_adjustments\n",
    "    \n",
    "    return new_hw, new_ow"
   ]
  },
  {
   "cell_type": "code",
   "execution_count": 27,
   "id": "67ef4d48",
   "metadata": {},
   "outputs": [],
   "source": [
    "def prediction(test_X, hw, ow):\n",
    "    # Forward Prop\n",
    "    output = forward_pass(test_X, hw, ow)\n",
    "    return np.argmax(output['output_activation'], axis=1)"
   ]
  },
  {
   "cell_type": "code",
   "execution_count": 28,
   "id": "2a190476",
   "metadata": {},
   "outputs": [],
   "source": [
    "def calc_accuracy(y_pred, test_y):\n",
    "    acc = (y_pred == test_y).mean() * 100 \n",
    "    err = 100 - acc\n",
    "    \n",
    "    return acc, err"
   ]
  },
  {
   "cell_type": "code",
   "execution_count": 29,
   "id": "ea15ce5c",
   "metadata": {},
   "outputs": [],
   "source": [
    "def train(train_X, train_y, test_X, test_y, num_iterations, hidden_weights, output_weights, lr):\n",
    "    epoch = 0\n",
    "    \n",
    "    # Store accuracy records with epoch and learning rate as key\n",
    "    acc_dict = {}\n",
    "    acc_dict[epoch] = 0\n",
    "    \n",
    "    # Start timer\n",
    "    start_time = time.time()\n",
    "    for i in range(num_iterations):\n",
    "        X, y, labels = sample_split(train_X, train_y)\n",
    "        \n",
    "        output = forward_pass(X, hidden_weights, output_weights)\n",
    "        weight_changes = back_propagation(X, labels, output, output_weights)\n",
    "        hidden_weights, output_weights = gradient_descent(hidden_weights, output_weights, weight_changes['hidden'], weight_changes['output'], lr)\n",
    "        \n",
    "        # Each epoch is 1000 iterations\n",
    "        if i % 1000 == 0:\n",
    "            epoch += 1\n",
    "\n",
    "            # Get training accuracy and error per epoch\n",
    "            train_pred = np.argmax(output['output_activation'], axis=1)\n",
    "            train_acc = (train_pred == y).mean() * 100\n",
    "            train_err = 100 - train_acc\n",
    "\n",
    "            # Get testing accuracy and error per epoch\n",
    "            training_set = test_X.reshape((-1, 784))\n",
    "            y_pred = prediction(training_set, hidden_weights, output_weights)\n",
    "            acc, err = calc_accuracy(y_pred, test_y)\n",
    "\n",
    "            # Add acc and err values to dicts\n",
    "            acc_dict[epoch] = acc\n",
    "\n",
    "            print(\"Epoch {}/10 Learning Rate: {} Training Accuracy: {:.2f}% Training Error: {:.2f}% Test Accuracy: {:.2f}% Test Error: {:.2f}%\".format(epoch, lr, train_acc, train_err, acc, err))\n",
    "            \n",
    "        # Stop timer\n",
    "        stop_time = time.time()\n",
    "        \n",
    "    print(\"\\nTotal Time: {:.2f}s\\n\".format(stop_time - start_time))\n",
    "    \n",
    "    # Keep track of misclassified_images for 1.7\n",
    "    if lr == 0.002:\n",
    "        misclassified_images['1.2 Simple'] = np.where(test_y != y_pred)[0]\n",
    "    \n",
    "    # For graphing\n",
    "    return acc_dict, hidden_weights, output_weights"
   ]
  },
  {
   "cell_type": "code",
   "execution_count": 30,
   "id": "9b799143",
   "metadata": {},
   "outputs": [],
   "source": [
    "def fit(train_X, train_y, test_X, test_y, lr=0.001):\n",
    "    # Define number of iterations\n",
    "    num_iterations = 10000\n",
    "    \n",
    "    # Define number of input layer, hidden layer, and output layer neurons \n",
    "    input_layer = 28 * 28 # number of pixels (784)\n",
    "    # Only 1 hidden layer\n",
    "    hidden_layer = 128\n",
    "    output_layer = 10\n",
    "    \n",
    "    # Initialize weights to be very small random values\n",
    "    hidden_weights = np.random.randn(input_layer, hidden_layer) / np.sqrt(hidden_layer * input_layer).astype(np.float64)\n",
    "    output_weights = np.random.randn(hidden_layer, output_layer) / np.sqrt(hidden_layer * output_layer).astype(np.float64)\n",
    "    \n",
    "    # Flatten images into 784 pixels\n",
    "    train_X = np.reshape(train_X, (train_X.shape[0], 784))\n",
    "    test_X = np.reshape(test_X, (test_X.shape[0], 784))\n",
    "    print(\"Flattened Shapes:\", train_X.shape, test_X.shape, \"\\n\")\n",
    "    \n",
    "    # Begin training\n",
    "    return train(train_X, train_y, test_X, test_y, num_iterations, hidden_weights, output_weights, lr)"
   ]
  },
  {
   "cell_type": "code",
   "execution_count": 31,
   "id": "5d40960b",
   "metadata": {
    "scrolled": false
   },
   "outputs": [
    {
     "name": "stdout",
     "output_type": "stream",
     "text": [
      "Flattened Shapes: (60000, 784) (10000, 784) \n",
      "\n",
      "Epoch 1/10 Learning Rate: 0.001 Training Accuracy: 10.94% Training Error: 89.06% Test Accuracy: 8.90% Test Error: 91.10%\n",
      "Epoch 2/10 Learning Rate: 0.001 Training Accuracy: 64.84% Training Error: 35.16% Test Accuracy: 62.26% Test Error: 37.74%\n",
      "Epoch 3/10 Learning Rate: 0.001 Training Accuracy: 70.31% Training Error: 29.69% Test Accuracy: 70.82% Test Error: 29.18%\n",
      "Epoch 4/10 Learning Rate: 0.001 Training Accuracy: 74.22% Training Error: 25.78% Test Accuracy: 74.71% Test Error: 25.29%\n",
      "Epoch 5/10 Learning Rate: 0.001 Training Accuracy: 81.25% Training Error: 18.75% Test Accuracy: 76.79% Test Error: 23.21%\n",
      "Epoch 6/10 Learning Rate: 0.001 Training Accuracy: 80.47% Training Error: 19.53% Test Accuracy: 78.47% Test Error: 21.53%\n",
      "Epoch 7/10 Learning Rate: 0.001 Training Accuracy: 75.78% Training Error: 24.22% Test Accuracy: 79.97% Test Error: 20.03%\n",
      "Epoch 8/10 Learning Rate: 0.001 Training Accuracy: 85.16% Training Error: 14.84% Test Accuracy: 81.26% Test Error: 18.74%\n",
      "Epoch 9/10 Learning Rate: 0.001 Training Accuracy: 81.25% Training Error: 18.75% Test Accuracy: 82.25% Test Error: 17.75%\n",
      "Epoch 10/10 Learning Rate: 0.001 Training Accuracy: 85.16% Training Error: 14.84% Test Accuracy: 82.97% Test Error: 17.03%\n",
      "\n",
      "Total Time: 12.51s\n",
      "\n"
     ]
    }
   ],
   "source": [
    "acc_dict, hidden_weights, output_weights = fit(train_X, train_y, test_X, test_y, lr=0.001)"
   ]
  },
  {
   "cell_type": "code",
   "execution_count": 32,
   "id": "7f159558",
   "metadata": {
    "scrolled": false
   },
   "outputs": [
    {
     "data": {
      "image/png": "[encoded data removed]",
      "text/plain": [
       "<Figure size 640x480 with 1 Axes>"
      ]
     },
     "metadata": {},
     "output_type": "display_data"
    }
   ],
   "source": [
    "plt.ylim(0, 100)\n",
    "plt.plot(acc_dict.values())\n",
    "plt.xlabel('Epoch')\n",
    "plt.ylabel('Accuracy (%)')\n",
    "plt.title('Validation Accuracy by Epoch with Learning Rate = 0.001')\n",
    "plt.show()"
   ]
  },
  {
   "cell_type": "code",
   "execution_count": 33,
   "id": "d27d45ad",
   "metadata": {
    "scrolled": false
   },
   "outputs": [
    {
     "name": "stdout",
     "output_type": "stream",
     "text": [
      "Flattened Shapes: (60000, 784) (10000, 784) \n",
      "\n",
      "Epoch 1/10 Learning Rate: 0.002 Training Accuracy: 9.38% Training Error: 90.62% Test Accuracy: 10.76% Test Error: 89.24%\n",
      "Epoch 2/10 Learning Rate: 0.002 Training Accuracy: 72.66% Training Error: 27.34% Test Accuracy: 72.37% Test Error: 27.63%\n",
      "Epoch 3/10 Learning Rate: 0.002 Training Accuracy: 80.47% Training Error: 19.53% Test Accuracy: 78.41% Test Error: 21.59%\n",
      "Epoch 4/10 Learning Rate: 0.002 Training Accuracy: 75.78% Training Error: 24.22% Test Accuracy: 81.75% Test Error: 18.25%\n",
      "Epoch 5/10 Learning Rate: 0.002 Training Accuracy: 83.59% Training Error: 16.41% Test Accuracy: 83.54% Test Error: 16.46%\n",
      "Epoch 6/10 Learning Rate: 0.002 Training Accuracy: 89.06% Training Error: 10.94% Test Accuracy: 84.46% Test Error: 15.54%\n",
      "Epoch 7/10 Learning Rate: 0.002 Training Accuracy: 85.94% Training Error: 14.06% Test Accuracy: 84.68% Test Error: 15.32%\n",
      "Epoch 8/10 Learning Rate: 0.002 Training Accuracy: 87.50% Training Error: 12.50% Test Accuracy: 84.90% Test Error: 15.10%\n",
      "Epoch 9/10 Learning Rate: 0.002 Training Accuracy: 85.94% Training Error: 14.06% Test Accuracy: 84.55% Test Error: 15.45%\n",
      "Epoch 10/10 Learning Rate: 0.002 Training Accuracy: 82.81% Training Error: 17.19% Test Accuracy: 84.60% Test Error: 15.40%\n",
      "\n",
      "Total Time: 12.46s\n",
      "\n",
      "Flattened Shapes: (60000, 784) (10000, 784) \n",
      "\n",
      "Epoch 1/10 Learning Rate: 0.02 Training Accuracy: 9.38% Training Error: 90.62% Test Accuracy: 10.93% Test Error: 89.07%\n",
      "Epoch 2/10 Learning Rate: 0.02 Training Accuracy: 82.03% Training Error: 17.97% Test Accuracy: 83.64% Test Error: 16.36%\n",
      "Epoch 3/10 Learning Rate: 0.02 Training Accuracy: 63.28% Training Error: 36.72% Test Accuracy: 63.73% Test Error: 36.27%\n",
      "Epoch 4/10 Learning Rate: 0.02 Training Accuracy: 21.09% Training Error: 78.91% Test Accuracy: 22.84% Test Error: 77.16%\n",
      "Epoch 5/10 Learning Rate: 0.02 Training Accuracy: 20.31% Training Error: 79.69% Test Accuracy: 19.14% Test Error: 80.86%\n",
      "Epoch 6/10 Learning Rate: 0.02 Training Accuracy: 10.94% Training Error: 89.06% Test Accuracy: 17.20% Test Error: 82.80%\n",
      "Epoch 7/10 Learning Rate: 0.02 Training Accuracy: 17.97% Training Error: 82.03% Test Accuracy: 15.72% Test Error: 84.28%\n",
      "Epoch 8/10 Learning Rate: 0.02 Training Accuracy: 14.06% Training Error: 85.94% Test Accuracy: 14.83% Test Error: 85.17%\n",
      "Epoch 9/10 Learning Rate: 0.02 Training Accuracy: 10.16% Training Error: 89.84% Test Accuracy: 14.25% Test Error: 85.75%\n",
      "Epoch 10/10 Learning Rate: 0.02 Training Accuracy: 15.62% Training Error: 84.38% Test Accuracy: 13.78% Test Error: 86.22%\n",
      "\n",
      "Total Time: 12.27s\n",
      "\n",
      "Flattened Shapes: (60000, 784) (10000, 784) \n",
      "\n",
      "Epoch 1/10 Learning Rate: 0.2 Training Accuracy: 12.50% Training Error: 87.50% Test Accuracy: 27.14% Test Error: 72.86%\n",
      "Epoch 2/10 Learning Rate: 0.2 Training Accuracy: 16.41% Training Error: 83.59% Test Accuracy: 12.83% Test Error: 87.17%\n",
      "Epoch 3/10 Learning Rate: 0.2 Training Accuracy: 11.72% Training Error: 88.28% Test Accuracy: 11.77% Test Error: 88.23%\n",
      "Epoch 4/10 Learning Rate: 0.2 Training Accuracy: 14.06% Training Error: 85.94% Test Accuracy: 11.46% Test Error: 88.54%\n",
      "Epoch 5/10 Learning Rate: 0.2 Training Accuracy: 14.84% Training Error: 85.16% Test Accuracy: 11.29% Test Error: 88.71%\n",
      "Epoch 6/10 Learning Rate: 0.2 Training Accuracy: 10.94% Training Error: 89.06% Test Accuracy: 11.22% Test Error: 88.78%\n",
      "Epoch 7/10 Learning Rate: 0.2 Training Accuracy: 12.50% Training Error: 87.50% Test Accuracy: 11.22% Test Error: 88.78%\n",
      "Epoch 8/10 Learning Rate: 0.2 Training Accuracy: 12.50% Training Error: 87.50% Test Accuracy: 11.20% Test Error: 88.80%\n",
      "Epoch 9/10 Learning Rate: 0.2 Training Accuracy: 10.16% Training Error: 89.84% Test Accuracy: 11.20% Test Error: 88.80%\n",
      "Epoch 10/10 Learning Rate: 0.2 Training Accuracy: 7.03% Training Error: 92.97% Test Accuracy: 11.20% Test Error: 88.80%\n",
      "\n",
      "Total Time: 12.26s\n",
      "\n"
     ]
    }
   ],
   "source": [
    "# Test different learning rates\n",
    "lr_list = [0.002, 0.02, 0.2]\n",
    "acc_lr_dict = {}\n",
    "for item in lr_list:\n",
    "    acc_lr_dict[item], hidden_weights, output_weights = fit(train_X, train_y, test_X, test_y, lr=item)"
   ]
  },
  {
   "cell_type": "code",
   "execution_count": 34,
   "id": "6bb69f15",
   "metadata": {},
   "outputs": [
    {
     "data": {
      "image/png": "[encoded data removed]",
      "text/plain": [
       "<Figure size 640x480 with 1 Axes>"
      ]
     },
     "metadata": {},
     "output_type": "display_data"
    },
    {
     "data": {
      "image/png": "[encoded data removed]",
      "text/plain": [
       "<Figure size 640x480 with 1 Axes>"
      ]
     },
     "metadata": {},
     "output_type": "display_data"
    },
    {
     "data": {
      "image/png": "[encoded data removed]",
      "text/plain": [
       "<Figure size 640x480 with 1 Axes>"
      ]
     },
     "metadata": {},
     "output_type": "display_data"
    }
   ],
   "source": [
    "for lr, lr_info in acc_lr_dict.items():\n",
    "    \n",
    "    plt.ylim(0, 100)\n",
    "    plt.plot(lr_info.values())\n",
    "    plt.xlabel('Epoch')\n",
    "    plt.ylabel('Accuracy (%)')\n",
    "    plt.title('Validation Accuracy by Epoch with Learning Rate = {}'.format(lr))\n",
    "    plt.show()"
   ]
  },
  {
   "cell_type": "markdown",
   "id": "d707bcb4",
   "metadata": {},
   "source": [
    "Accuracy typically increased as the number of gradient descents iterations and epochs took place. However, when the learning parameter is too large a value, the accuracy is a very poor number. "
   ]
  },
  {
   "cell_type": "markdown",
   "id": "b26c2000",
   "metadata": {},
   "source": [
    "## 1.3 Keras"
   ]
  },
  {
   "cell_type": "code",
   "execution_count": 4,
   "id": "d81926ce",
   "metadata": {},
   "outputs": [],
   "source": [
    "# The kernel crashes so it must be started here\n",
    "import time\n",
    "import keras\n",
    "from keras.datasets import mnist\n",
    "from tensorflow.keras.utils import to_categorical"
   ]
  },
  {
   "cell_type": "code",
   "execution_count": 5,
   "id": "b81d2cdc",
   "metadata": {},
   "outputs": [
    {
     "name": "stdout",
     "output_type": "stream",
     "text": [
      "(60000, 28, 28) (10000, 28, 28)\n"
     ]
    }
   ],
   "source": [
    "(X_train, y_train), (X_test, y_test) = mnist.load_data()\n",
    "\n",
    "print(X_train.shape, X_test.shape)"
   ]
  },
  {
   "cell_type": "code",
   "execution_count": 6,
   "id": "49fa28e2",
   "metadata": {
    "scrolled": false
   },
   "outputs": [
    {
     "name": "stdout",
     "output_type": "stream",
     "text": [
      "Epoch 1/10\n",
      "77/77 [==============================] - 1s 7ms/step - loss: 0.7691 - accuracy: 0.8010 - val_loss: 0.4289 - val_accuracy: 0.8895\n",
      "Epoch 2/10\n",
      "77/77 [==============================] - 0s 3ms/step - loss: 0.3680 - accuracy: 0.8998 - val_loss: 0.3109 - val_accuracy: 0.9172\n",
      "Epoch 3/10\n",
      "77/77 [==============================] - 0s 3ms/step - loss: 0.2908 - accuracy: 0.9179 - val_loss: 0.2581 - val_accuracy: 0.9254\n",
      "Epoch 4/10\n",
      "77/77 [==============================] - 0s 3ms/step - loss: 0.2527 - accuracy: 0.9272 - val_loss: 0.2373 - val_accuracy: 0.9321\n",
      "Epoch 5/10\n",
      "77/77 [==============================] - 0s 3ms/step - loss: 0.2277 - accuracy: 0.9345 - val_loss: 0.2221 - val_accuracy: 0.9349\n",
      "Epoch 6/10\n",
      "77/77 [==============================] - 0s 3ms/step - loss: 0.2106 - accuracy: 0.9385 - val_loss: 0.2025 - val_accuracy: 0.9408\n",
      "Epoch 7/10\n",
      "77/77 [==============================] - 0s 3ms/step - loss: 0.1970 - accuracy: 0.9424 - val_loss: 0.1919 - val_accuracy: 0.9432\n",
      "Epoch 8/10\n",
      "77/77 [==============================] - 0s 3ms/step - loss: 0.1858 - accuracy: 0.9453 - val_loss: 0.1794 - val_accuracy: 0.9474\n",
      "Epoch 9/10\n",
      "77/77 [==============================] - 0s 3ms/step - loss: 0.1772 - accuracy: 0.9482 - val_loss: 0.1852 - val_accuracy: 0.9449\n",
      "Epoch 10/10\n",
      "77/77 [==============================] - 0s 4ms/step - loss: 0.1681 - accuracy: 0.9506 - val_loss: 0.1742 - val_accuracy: 0.9491\n",
      "<keras.callbacks.History object at 0x0000029270C596F0>\n",
      "\n",
      "Total Time: 3.19s\n"
     ]
    }
   ],
   "source": [
    "model = keras.Sequential([\n",
    "    keras.layers.Flatten(input_shape=(28, 28, 1)),\n",
    "    keras.layers.Dense(128, activation='sigmoid'),\n",
    "    keras.layers.Dense(10, activation='softmax')\n",
    "])\n",
    "\n",
    "model.compile(loss=keras.losses.CategoricalCrossentropy(), metrics=['accuracy'])\n",
    "\n",
    "y_train = to_categorical(y_train, 10)\n",
    "y_test = to_categorical(y_test, 10)\n",
    "keras_start = time.time()\n",
    "print(model.fit(X_train, y_train, batch_size=784, epochs=10, validation_data=(X_test, y_test)))\n",
    "print(\"\\nTotal Time: {:.2f}s\".format(time.time() - keras_start))\n",
    "\n",
    "misclassified_images['1.3 Keras'] = np.where(test_y != np.argmax(model.predict(test_X), axis=-1))[0]"
   ]
  },
  {
   "cell_type": "markdown",
   "id": "c2541b5e",
   "metadata": {},
   "source": [
    "Keras is much faster at 2.88s compared to ~12 seconds with the exact same network. It is also much more accurate with validation scores in ~89 - 94% range compared to  ~84% in the same network. "
   ]
  },
  {
   "cell_type": "markdown",
   "id": "e1c37852",
   "metadata": {},
   "source": [
    "## 1.4 ReLU"
   ]
  },
  {
   "cell_type": "code",
   "execution_count": 7,
   "id": "179864ce",
   "metadata": {},
   "outputs": [],
   "source": [
    "import time\n",
    "import keras\n",
    "from keras.datasets import mnist\n",
    "from tensorflow.keras.utils import to_categorical"
   ]
  },
  {
   "cell_type": "code",
   "execution_count": 8,
   "id": "18e6bf09",
   "metadata": {},
   "outputs": [
    {
     "name": "stdout",
     "output_type": "stream",
     "text": [
      "(60000, 28, 28) (10000, 28, 28)\n"
     ]
    }
   ],
   "source": [
    "(X_train, y_train), (X_test, y_test) = mnist.load_data()\n",
    "\n",
    "print(X_train.shape, X_test.shape)"
   ]
  },
  {
   "cell_type": "code",
   "execution_count": 9,
   "id": "2ba78411",
   "metadata": {},
   "outputs": [
    {
     "name": "stdout",
     "output_type": "stream",
     "text": [
      "Epoch 1/10\n",
      "77/77 [==============================] - 1s 5ms/step - loss: 15.3417 - accuracy: 0.7746 - val_loss: 3.6903 - val_accuracy: 0.8948\n",
      "Epoch 2/10\n",
      "77/77 [==============================] - 0s 3ms/step - loss: 2.4749 - accuracy: 0.9056 - val_loss: 1.8098 - val_accuracy: 0.9201\n",
      "Epoch 3/10\n",
      "77/77 [==============================] - 0s 3ms/step - loss: 1.1252 - accuracy: 0.9339 - val_loss: 1.1247 - val_accuracy: 0.9299\n",
      "Epoch 4/10\n",
      "77/77 [==============================] - 0s 3ms/step - loss: 0.6582 - accuracy: 0.9462 - val_loss: 1.1953 - val_accuracy: 0.9120\n",
      "Epoch 5/10\n",
      "77/77 [==============================] - 0s 3ms/step - loss: 0.4228 - accuracy: 0.9544 - val_loss: 0.8590 - val_accuracy: 0.9291\n",
      "Epoch 6/10\n",
      "77/77 [==============================] - 0s 3ms/step - loss: 0.3072 - accuracy: 0.9621 - val_loss: 0.7444 - val_accuracy: 0.9400\n",
      "Epoch 7/10\n",
      "77/77 [==============================] - 0s 3ms/step - loss: 0.2335 - accuracy: 0.9683 - val_loss: 0.5949 - val_accuracy: 0.9501\n",
      "Epoch 8/10\n",
      "77/77 [==============================] - 0s 3ms/step - loss: 0.1803 - accuracy: 0.9729 - val_loss: 0.6841 - val_accuracy: 0.9459\n",
      "Epoch 9/10\n",
      "77/77 [==============================] - 0s 3ms/step - loss: 0.1529 - accuracy: 0.9754 - val_loss: 0.5600 - val_accuracy: 0.9564\n",
      "Epoch 10/10\n",
      "77/77 [==============================] - 0s 3ms/step - loss: 0.1247 - accuracy: 0.9793 - val_loss: 0.5789 - val_accuracy: 0.9522\n",
      "<keras.callbacks.History object at 0x00000292751ED450>\n",
      "\n",
      "Total Time: 3.16s\n"
     ]
    }
   ],
   "source": [
    "reLU_model = keras.Sequential([\n",
    "    keras.layers.Flatten(input_shape=(28, 28, 1)),\n",
    "    keras.layers.Dense(128, activation='relu'),\n",
    "    keras.layers.Dense(10, activation='softmax')\n",
    "])\n",
    "\n",
    "reLU_model.compile(loss=keras.losses.CategoricalCrossentropy(), metrics=['accuracy'])\n",
    "\n",
    "y_train = to_categorical(y_train, 10)\n",
    "y_test = to_categorical(y_test, 10)\n",
    "\n",
    "reLU_start = time.time()\n",
    "print(reLU_model.fit(X_train, y_train, batch_size=784, epochs=10, validation_data=(X_test, y_test)))\n",
    "print(\"\\nTotal Time: {:.2f}s\".format(time.time() - reLU_start))\n",
    "\n",
    "misclassified_images['1.4 ReLU'] = np.where(test_y != np.argmax(reLU_model.predict(test_X), axis=-1))[0]"
   ]
  },
  {
   "cell_type": "markdown",
   "id": "afc89072",
   "metadata": {},
   "source": [
    "Compared to the sigmoid model above, the results are very similar in terms of accuracy and time per epoch. However, the loss is quite different. "
   ]
  },
  {
   "cell_type": "markdown",
   "id": "2ae27d84",
   "metadata": {},
   "source": [
    "## 1.5 Dropout"
   ]
  },
  {
   "cell_type": "code",
   "execution_count": 10,
   "id": "52f9b46f",
   "metadata": {},
   "outputs": [],
   "source": [
    "import time\n",
    "import keras\n",
    "from keras.datasets import mnist\n",
    "from tensorflow.keras.utils import to_categorical\n",
    "from sklearn.model_selection import GridSearchCV, KFold\n",
    "from keras.wrappers.scikit_learn import KerasClassifier\n",
    "import warnings"
   ]
  },
  {
   "cell_type": "code",
   "execution_count": 11,
   "id": "df8f3d20",
   "metadata": {},
   "outputs": [
    {
     "name": "stdout",
     "output_type": "stream",
     "text": [
      "(60000, 28, 28) (10000, 28, 28)\n"
     ]
    }
   ],
   "source": [
    "(X_train, y_train), (X_test, y_test) = mnist.load_data()\n",
    "\n",
    "print(X_train.shape, X_test.shape)"
   ]
  },
  {
   "cell_type": "code",
   "execution_count": 12,
   "id": "81d6a526",
   "metadata": {},
   "outputs": [],
   "source": [
    "def NN(dropout_rate, l2_regularizer):\n",
    "    model = keras.Sequential([\n",
    "        keras.layers.Flatten(input_shape=(28, 28, 1)),\n",
    "        keras.layers.Dropout(dropout_rate),\n",
    "        keras.layers.Dense(128, activation='relu'),\n",
    "        keras.layers.Dropout(dropout_rate),\n",
    "        keras.layers.Dense(64, activation='relu'),\n",
    "        keras.layers.Dropout(dropout_rate),\n",
    "        keras.layers.Dense(32, activation='relu'),\n",
    "        keras.layers.Dropout(dropout_rate),\n",
    "        keras.layers.Dense(10, activation='softmax', kernel_regularizer=keras.regularizers.l2(l2_regularizer), bias_regularizer=keras.regularizers.l2(l2_regularizer))\n",
    "    ])\n",
    "    model.compile(loss=keras.losses.CategoricalCrossentropy(), metrics=['accuracy'])\n",
    "    return model"
   ]
  },
  {
   "cell_type": "code",
   "execution_count": 13,
   "id": "e4b64396",
   "metadata": {
    "scrolled": false
   },
   "outputs": [
    {
     "name": "stdout",
     "output_type": "stream",
     "text": [
      "Fitting 2 folds for each of 9 candidates, totalling 18 fits\n",
      "[CV 1/2; 1/9] START dropout_rate=0.0, l2_regularizer=0.0........................\n",
      "[CV 1/2; 1/9] END dropout_rate=0.0, l2_regularizer=0.0;, score=0.921 total time=   1.9s\n",
      "[CV 2/2; 1/9] START dropout_rate=0.0, l2_regularizer=0.0........................\n",
      "[CV 2/2; 1/9] END dropout_rate=0.0, l2_regularizer=0.0;, score=0.911 total time=   2.1s\n",
      "[CV 1/2; 2/9] START dropout_rate=0.0, l2_regularizer=0.4........................\n",
      "[CV 1/2; 2/9] END dropout_rate=0.0, l2_regularizer=0.4;, score=0.929 total time=   2.1s\n",
      "[CV 2/2; 2/9] START dropout_rate=0.0, l2_regularizer=0.4........................\n",
      "[CV 2/2; 2/9] END dropout_rate=0.0, l2_regularizer=0.4;, score=0.953 total time=   1.9s\n",
      "[CV 1/2; 3/9] START dropout_rate=0.0, l2_regularizer=0.8........................\n",
      "[CV 1/2; 3/9] END dropout_rate=0.0, l2_regularizer=0.8;, score=0.948 total time=   2.0s\n",
      "[CV 2/2; 3/9] START dropout_rate=0.0, l2_regularizer=0.8........................\n",
      "[CV 2/2; 3/9] END dropout_rate=0.0, l2_regularizer=0.8;, score=0.935 total time=   2.1s\n",
      "[CV 1/2; 4/9] START dropout_rate=0.4, l2_regularizer=0.0........................\n",
      "[CV 1/2; 4/9] END dropout_rate=0.4, l2_regularizer=0.0;, score=0.296 total time=   3.0s\n",
      "[CV 2/2; 4/9] START dropout_rate=0.4, l2_regularizer=0.0........................\n",
      "[CV 2/2; 4/9] END dropout_rate=0.4, l2_regularizer=0.0;, score=0.363 total time=   2.9s\n",
      "[CV 1/2; 5/9] START dropout_rate=0.4, l2_regularizer=0.4........................\n",
      "[CV 1/2; 5/9] END dropout_rate=0.4, l2_regularizer=0.4;, score=0.663 total time=   2.9s\n",
      "[CV 2/2; 5/9] START dropout_rate=0.4, l2_regularizer=0.4........................\n",
      "[CV 2/2; 5/9] END dropout_rate=0.4, l2_regularizer=0.4;, score=0.501 total time=   3.1s\n",
      "[CV 1/2; 6/9] START dropout_rate=0.4, l2_regularizer=0.8........................\n",
      "[CV 1/2; 6/9] END dropout_rate=0.4, l2_regularizer=0.8;, score=0.405 total time=   2.8s\n",
      "[CV 2/2; 6/9] START dropout_rate=0.4, l2_regularizer=0.8........................\n",
      "[CV 2/2; 6/9] END dropout_rate=0.4, l2_regularizer=0.8;, score=0.388 total time=   2.9s\n",
      "[CV 1/2; 7/9] START dropout_rate=0.8, l2_regularizer=0.0........................\n",
      "[CV 1/2; 7/9] END dropout_rate=0.8, l2_regularizer=0.0;, score=0.114 total time=   3.0s\n",
      "[CV 2/2; 7/9] START dropout_rate=0.8, l2_regularizer=0.0........................\n",
      "[CV 2/2; 7/9] END dropout_rate=0.8, l2_regularizer=0.0;, score=0.111 total time=   2.9s\n",
      "[CV 1/2; 8/9] START dropout_rate=0.8, l2_regularizer=0.4........................\n",
      "[CV 1/2; 8/9] END dropout_rate=0.8, l2_regularizer=0.4;, score=0.114 total time=   3.1s\n",
      "[CV 2/2; 8/9] START dropout_rate=0.8, l2_regularizer=0.4........................\n",
      "[CV 2/2; 8/9] END dropout_rate=0.8, l2_regularizer=0.4;, score=0.111 total time=   2.9s\n",
      "[CV 1/2; 9/9] START dropout_rate=0.8, l2_regularizer=0.8........................\n",
      "[CV 1/2; 9/9] END dropout_rate=0.8, l2_regularizer=0.8;, score=0.096 total time=   3.1s\n",
      "[CV 2/2; 9/9] START dropout_rate=0.8, l2_regularizer=0.8........................\n",
      "[CV 2/2; 9/9] END dropout_rate=0.8, l2_regularizer=0.8;, score=0.111 total time=   2.9s\n",
      "\n",
      "Fitting with best hyperparamters: dropout_rate: 0.0, l2_regularizer: 0.4\n",
      "Epoch 1/10\n",
      "77/77 [==============================] - 1s 6ms/step - loss: 10.5950 - accuracy: 0.6740 - val_loss: 4.8499 - val_accuracy: 0.8195\n",
      "Epoch 2/10\n",
      "77/77 [==============================] - 0s 4ms/step - loss: 3.5122 - accuracy: 0.8536 - val_loss: 2.4925 - val_accuracy: 0.8566\n",
      "Epoch 3/10\n",
      "77/77 [==============================] - 0s 4ms/step - loss: 1.5724 - accuracy: 0.9131 - val_loss: 1.0365 - val_accuracy: 0.9207\n",
      "Epoch 4/10\n",
      "77/77 [==============================] - 0s 4ms/step - loss: 0.6378 - accuracy: 0.9428 - val_loss: 0.4289 - val_accuracy: 0.9411\n",
      "Epoch 5/10\n",
      "77/77 [==============================] - 0s 3ms/step - loss: 0.2681 - accuracy: 0.9585 - val_loss: 0.2238 - val_accuracy: 0.9548\n",
      "Epoch 6/10\n",
      "77/77 [==============================] - 0s 4ms/step - loss: 0.1591 - accuracy: 0.9671 - val_loss: 0.1599 - val_accuracy: 0.9628\n",
      "Epoch 7/10\n",
      "77/77 [==============================] - 0s 4ms/step - loss: 0.1165 - accuracy: 0.9742 - val_loss: 0.1601 - val_accuracy: 0.9591\n",
      "Epoch 8/10\n",
      "77/77 [==============================] - 0s 4ms/step - loss: 0.0952 - accuracy: 0.9779 - val_loss: 0.1427 - val_accuracy: 0.9634\n",
      "Epoch 9/10\n",
      "77/77 [==============================] - 0s 4ms/step - loss: 0.0790 - accuracy: 0.9816 - val_loss: 0.1535 - val_accuracy: 0.9591\n",
      "Epoch 10/10\n",
      "77/77 [==============================] - 0s 4ms/step - loss: 0.0660 - accuracy: 0.9851 - val_loss: 0.1474 - val_accuracy: 0.9630\n",
      "<keras.callbacks.History object at 0x000002927F3BA3E0>\n",
      "\n",
      "Total Time: 55.57s\n"
     ]
    }
   ],
   "source": [
    "# Suppress DeprecationWarning\n",
    "warnings.simplefilter(action='ignore', category=DeprecationWarning)\n",
    "\n",
    "y_train = to_categorical(y_train, 10)\n",
    "y_test = to_categorical(y_test, 10)\n",
    "\n",
    "# A good dropout value in hidden layers is between 0.5 and 0.8, input layer is 0.8\n",
    "# https://machinelearningmastery.com/dropout-for-regularizing-deep-neural-networks/\n",
    "dropout_rates = [0.0, 0.4, 0.8]\n",
    "L2_params = [0.0, 0.4, 0.8]\n",
    "\n",
    "param_grid = dict(dropout_rate=dropout_rates, l2_regularizer=L2_params)\n",
    "\n",
    "drop_start = time.time()\n",
    "tuning_model = KerasClassifier(build_fn=NN, batch_size=784, epochs=10, verbose=0,)\n",
    "\n",
    "models = GridSearchCV(estimator=tuning_model, param_grid=param_grid, cv=KFold(2), verbose=10)\n",
    "\n",
    "results = models.fit(X_train, y_train)\n",
    "best_drop_rate = results.best_params_['dropout_rate']\n",
    "best_l2 = results.best_params_['l2_regularizer']\n",
    "\n",
    "dropout_model = NN(best_drop_rate, best_l2)\n",
    "\n",
    "print(\"\\nFitting with best hyperparamters: dropout_rate: {}, l2_regularizer: {}\".format(best_drop_rate, best_l2))\n",
    "print(dropout_model.fit(X_train, y_train, batch_size=784, epochs=10, validation_data=(X_test, y_test)))\n",
    "print(\"\\nTotal Time: {:.2f}s\".format(time.time() - drop_start))\n",
    "\n",
    "misclassified_images['1.5 Dropout'] = np.where(test_y != np.argmax(dropout_model.predict(test_X), axis=-1))[0]"
   ]
  },
  {
   "cell_type": "markdown",
   "id": "7ffc8e2c",
   "metadata": {},
   "source": [
    "Adding hyperparameters gave us a slightly better accuracy of ~96% compared to that of ~95% from the previous example. It was interesting to see the best dropout_rate being 0.0. This contradicts what I read and linked above stating that the best dropout_rate for hidden layers was between 0.5 and 0.8. "
   ]
  },
  {
   "cell_type": "markdown",
   "id": "d4b6e0cd",
   "metadata": {},
   "source": [
    "## 1.6 Convolution"
   ]
  },
  {
   "cell_type": "code",
   "execution_count": 14,
   "id": "8ecc9efb",
   "metadata": {},
   "outputs": [],
   "source": [
    "import time\n",
    "import keras\n",
    "from keras.datasets import mnist\n",
    "from tensorflow.keras.utils import to_categorical"
   ]
  },
  {
   "cell_type": "code",
   "execution_count": 15,
   "id": "c9016e84",
   "metadata": {},
   "outputs": [
    {
     "name": "stdout",
     "output_type": "stream",
     "text": [
      "(60000, 28, 28) (10000, 28, 28)\n"
     ]
    }
   ],
   "source": [
    "(X_train, y_train), (X_test, y_test) = mnist.load_data()\n",
    "\n",
    "print(X_train.shape, X_test.shape)"
   ]
  },
  {
   "cell_type": "code",
   "execution_count": 16,
   "id": "cf394eaf",
   "metadata": {},
   "outputs": [
    {
     "name": "stdout",
     "output_type": "stream",
     "text": [
      "(60000, 28, 28, 1) (10000, 28, 28, 1)\n",
      "Epoch 1/10\n",
      "77/77 [==============================] - 5s 58ms/step - loss: 8.6836 - accuracy: 0.7119 - val_loss: 0.3342 - val_accuracy: 0.8969\n",
      "Epoch 2/10\n",
      "77/77 [==============================] - 4s 56ms/step - loss: 0.4857 - accuracy: 0.8754 - val_loss: 0.1576 - val_accuracy: 0.9521\n",
      "Epoch 3/10\n",
      "77/77 [==============================] - 4s 55ms/step - loss: 0.2710 - accuracy: 0.9240 - val_loss: 0.1014 - val_accuracy: 0.9687\n",
      "Epoch 4/10\n",
      "77/77 [==============================] - 4s 56ms/step - loss: 0.2070 - accuracy: 0.9414 - val_loss: 0.0771 - val_accuracy: 0.9767\n",
      "Epoch 5/10\n",
      "77/77 [==============================] - 4s 57ms/step - loss: 0.1743 - accuracy: 0.9504 - val_loss: 0.0703 - val_accuracy: 0.9794\n",
      "Epoch 6/10\n",
      "77/77 [==============================] - 4s 55ms/step - loss: 0.1512 - accuracy: 0.9567 - val_loss: 0.0624 - val_accuracy: 0.9817\n",
      "Epoch 7/10\n",
      "77/77 [==============================] - 4s 55ms/step - loss: 0.1381 - accuracy: 0.9594 - val_loss: 0.0609 - val_accuracy: 0.9803\n",
      "Epoch 8/10\n",
      "77/77 [==============================] - 4s 56ms/step - loss: 0.1268 - accuracy: 0.9629 - val_loss: 0.0604 - val_accuracy: 0.9807\n",
      "Epoch 9/10\n",
      "77/77 [==============================] - 4s 55ms/step - loss: 0.1192 - accuracy: 0.9653 - val_loss: 0.0526 - val_accuracy: 0.9841\n",
      "Epoch 10/10\n",
      "77/77 [==============================] - 4s 54ms/step - loss: 0.1138 - accuracy: 0.9663 - val_loss: 0.0551 - val_accuracy: 0.9836\n",
      "<keras.callbacks.History object at 0x0000029200ECC760>\n",
      "\n",
      "Total Time: 43.73s\n"
     ]
    }
   ],
   "source": [
    "# Make sure images have shape (28, 28, 1)\n",
    "train_X = np.expand_dims(X_train, -1)\n",
    "test_X = np.expand_dims(X_test, -1)\n",
    "print(train_X.shape, test_X.shape)\n",
    "\n",
    "y_train = to_categorical(y_train, 10)\n",
    "y_test = to_categorical(y_test, 10)\n",
    "\n",
    "conv_model = keras.Sequential([\n",
    "    keras.layers.InputLayer(input_shape=(28, 28, 1)),\n",
    "    keras.layers.Conv2D(32, kernel_size=(3, 3), activation='relu'),\n",
    "    keras.layers.MaxPooling2D(pool_size=(2, 2)),\n",
    "    keras.layers.Flatten(input_shape=(28, 28, 1)),\n",
    "    keras.layers.Dropout(0.8),\n",
    "    keras.layers.Dense(128, activation='relu'),\n",
    "    keras.layers.Dropout(0.0),\n",
    "    keras.layers.Dense(10, activation='softmax')\n",
    "])\n",
    "\n",
    "conv_model.compile(loss=keras.losses.CategoricalCrossentropy(), metrics=['accuracy'])\n",
    "\n",
    "conv_time = time.time()\n",
    "\n",
    "print(conv_model.fit(train_X, y_train, batch_size=784, epochs=10, validation_data=(test_X, y_test)))\n",
    "print(\"\\nTotal Time: {:.2f}s\".format(time.time() - conv_time))\n",
    "\n",
    "misclassified_images['1.6 Convolution'] = np.where(test_y != np.argmax(conv_model.predict(test_X), axis=-1))[0]"
   ]
  },
  {
   "cell_type": "markdown",
   "id": "cdd7dfd3",
   "metadata": {},
   "source": [
    "Compared to 1.5, accuracy increased ~2%. I decided to use the best dropout rate from 1.5 which is 0.0 on the hidden layer, and a dropout_rate of 0.8 on the input layer. I tried to test 0.5 on the hidden layer, but the accuracy was surprisingly less than 1.5."
   ]
  },
  {
   "cell_type": "markdown",
   "id": "974b7ef8",
   "metadata": {},
   "source": [
    "## 1.7 Mugshots"
   ]
  },
  {
   "cell_type": "code",
   "execution_count": 45,
   "id": "adfbcf7e",
   "metadata": {},
   "outputs": [],
   "source": [
    "from functools import reduce\n",
    "from keras.datasets import mnist"
   ]
  },
  {
   "cell_type": "code",
   "execution_count": 46,
   "id": "e58d3b7a",
   "metadata": {},
   "outputs": [],
   "source": [
    "(X_train, y_train), (X_test, y_test) = mnist.load_data()\n",
    "\n",
    "y_train = to_categorical(y_train, 10)\n",
    "y_test = to_categorical(y_test, 10)\n",
    "conv_test_X = np.expand_dims(X_train, -1)"
   ]
  },
  {
   "cell_type": "code",
   "execution_count": 48,
   "id": "9a7b27c1",
   "metadata": {
    "scrolled": false
   },
   "outputs": [
    {
     "name": "stdout",
     "output_type": "stream",
     "text": [
      "\n",
      "Actual Class: 4\n",
      "Simple Model Predicted Class: 0\n",
      "Keras Model Predicted Class: 6\n",
      "ReLU Model Predicted Class: 2\n",
      "Dropout Model Predicted Class: 2\n",
      "Conv Model Predicted Class: 9\n"
     ]
    },
    {
     "data": {
      "image/png": "[encoded data removed]",
      "text/plain": [
       "<Figure size 640x480 with 1 Axes>"
      ]
     },
     "metadata": {},
     "output_type": "display_data"
    },
    {
     "name": "stdout",
     "output_type": "stream",
     "text": [
      "\n",
      "Actual Class: 2\n",
      "Simple Model Predicted Class: 0\n",
      "Keras Model Predicted Class: 7\n",
      "ReLU Model Predicted Class: 7\n",
      "Dropout Model Predicted Class: 7\n",
      "Conv Model Predicted Class: 3\n"
     ]
    },
    {
     "data": {
      "image/png": "[encoded data removed]",
      "text/plain": [
       "<Figure size 640x480 with 1 Axes>"
      ]
     },
     "metadata": {},
     "output_type": "display_data"
    },
    {
     "name": "stdout",
     "output_type": "stream",
     "text": [
      "\n",
      "Actual Class: 6\n",
      "Simple Model Predicted Class: 0\n",
      "Keras Model Predicted Class: 0\n",
      "ReLU Model Predicted Class: 0\n",
      "Dropout Model Predicted Class: 0\n",
      "Conv Model Predicted Class: 8\n"
     ]
    },
    {
     "data": {
      "image/png": "[encoded data removed]",
      "text/plain": [
       "<Figure size 640x480 with 1 Axes>"
      ]
     },
     "metadata": {},
     "output_type": "display_data"
    },
    {
     "name": "stdout",
     "output_type": "stream",
     "text": [
      "\n",
      "Actual Class: 1\n",
      "Simple Model Predicted Class: 0\n",
      "Keras Model Predicted Class: 8\n",
      "ReLU Model Predicted Class: 8\n",
      "Dropout Model Predicted Class: 8\n",
      "Conv Model Predicted Class: 2\n"
     ]
    },
    {
     "data": {
      "image/png": "[encoded data removed]",
      "text/plain": [
       "<Figure size 640x480 with 1 Axes>"
      ]
     },
     "metadata": {},
     "output_type": "display_data"
    },
    {
     "name": "stdout",
     "output_type": "stream",
     "text": [
      "\n",
      "Actual Class: 2\n",
      "Simple Model Predicted Class: 0\n",
      "Keras Model Predicted Class: 7\n",
      "ReLU Model Predicted Class: 7\n",
      "Dropout Model Predicted Class: 3\n",
      "Conv Model Predicted Class: 5\n"
     ]
    },
    {
     "data": {
      "image/png": "[encoded data removed]",
      "text/plain": [
       "<Figure size 640x480 with 1 Axes>"
      ]
     },
     "metadata": {},
     "output_type": "display_data"
    },
    {
     "name": "stdout",
     "output_type": "stream",
     "text": [
      "\n",
      "Actual Class: 6\n",
      "Simple Model Predicted Class: 0\n",
      "Keras Model Predicted Class: 5\n",
      "ReLU Model Predicted Class: 5\n",
      "Dropout Model Predicted Class: 5\n",
      "Conv Model Predicted Class: 7\n"
     ]
    },
    {
     "data": {
      "image/png": "[encoded data removed]",
      "text/plain": [
       "<Figure size 640x480 with 1 Axes>"
      ]
     },
     "metadata": {},
     "output_type": "display_data"
    },
    {
     "name": "stdout",
     "output_type": "stream",
     "text": [
      "\n",
      "Actual Class: 7\n",
      "Simple Model Predicted Class: 0\n",
      "Keras Model Predicted Class: 1\n",
      "ReLU Model Predicted Class: 2\n",
      "Dropout Model Predicted Class: 8\n",
      "Conv Model Predicted Class: 5\n"
     ]
    },
    {
     "data": {
      "image/png": "[encoded data removed]",
      "text/plain": [
       "<Figure size 640x480 with 1 Axes>"
      ]
     },
     "metadata": {},
     "output_type": "display_data"
    },
    {
     "name": "stdout",
     "output_type": "stream",
     "text": [
      "\n",
      "Actual Class: 4\n",
      "Simple Model Predicted Class: 0\n",
      "Keras Model Predicted Class: 6\n",
      "ReLU Model Predicted Class: 6\n",
      "Dropout Model Predicted Class: 6\n",
      "Conv Model Predicted Class: 9\n"
     ]
    },
    {
     "data": {
      "image/png": "[encoded data removed]",
      "text/plain": [
       "<Figure size 640x480 with 1 Axes>"
      ]
     },
     "metadata": {},
     "output_type": "display_data"
    },
    {
     "name": "stdout",
     "output_type": "stream",
     "text": [
      "\n",
      "Actual Class: 7\n",
      "Simple Model Predicted Class: 0\n",
      "Keras Model Predicted Class: 2\n",
      "ReLU Model Predicted Class: 2\n",
      "Dropout Model Predicted Class: 2\n",
      "Conv Model Predicted Class: 3\n"
     ]
    },
    {
     "data": {
      "image/png": "[encoded data removed]",
      "text/plain": [
       "<Figure size 640x480 with 1 Axes>"
      ]
     },
     "metadata": {},
     "output_type": "display_data"
    }
   ],
   "source": [
    "misclassified = reduce(np.intersect1d, (misclassified_images['1.2 Simple'], \n",
    "                                        misclassified_images['1.3 Keras'],\n",
    "                                        misclassified_images['1.4 ReLU'],\n",
    "                                        misclassified_images['1.5 Dropout'],\n",
    "                                        misclassified_images['1.6 Convolution']\n",
    "                                       ))\n",
    "\n",
    "\n",
    "for i in range(0, 9):\n",
    "    plt.imshow(X_test[misclassified[i]], cmap='gray')\n",
    "    simple_img = X_test[misclassified[i]].reshape((-1, 784))\n",
    "    # Keras reLU and Dropout models must have this specific shape\n",
    "    k_r_d_img_idx = X_test[misclassified[i]].reshape((1, 28, 28))\n",
    "    \n",
    "    keras_pred = np.argmax(model.predict(k_r_d_img_idx), axis=-1)[0]\n",
    "    reLU_pred = np.argmax(reLU_model.predict(k_r_d_img_idx), axis=-1)[0]\n",
    "    dropout_pred = np.argmax(dropout_model.predict(k_r_d_img_idx), axis=-1)[0]\n",
    "    conv_pred = np.argmax(conv_model.predict(conv_test_X[np.expand_dims(misclassified[i], -1)]), axis=-1)[0]\n",
    "    # 1.2 has be last or the kernel crashes\n",
    "    simple_pred = prediction(simple_img, hidden_weights, output_weights)[0]\n",
    "    \n",
    "    actual_value = np.argmax(y_test[misclassified[i]], axis=-1)\n",
    "    print(\"\\nActual Class:\", actual_value)\n",
    "    print(\"Simple Model Predicted Class:\", simple_pred)\n",
    "    print(\"Keras Model Predicted Class:\", keras_pred)\n",
    "    print(\"ReLU Model Predicted Class:\", reLU_pred)\n",
    "    print(\"Dropout Model Predicted Class:\", dropout_pred)\n",
    "    print(\"Conv Model Predicted Class:\", conv_pred)\n",
    "    plt.show()"
   ]
  },
  {
   "cell_type": "markdown",
   "id": "cc182e44",
   "metadata": {},
   "source": [
    "I am able to classify some of these images myself, however, they are quite difficult and sometimes it is necessary to take a best guess. "
   ]
  }
 ],
 "metadata": {
  "kernelspec": {
   "display_name": "Python 3 (ipykernel)",
   "language": "python",
   "name": "python3"
  },
  "language_info": {
   "codemirror_mode": {
    "name": "ipython",
    "version": 3
   },
   "file_extension": ".py",
   "mimetype": "text/x-python",
   "name": "python",
   "nbconvert_exporter": "python",
   "pygments_lexer": "ipython3",
   "version": "3.10.8"
  }
 },
 "nbformat": 4,
 "nbformat_minor": 5
}
