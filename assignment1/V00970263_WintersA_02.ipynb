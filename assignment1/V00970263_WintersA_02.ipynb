{
 "cells": [
  {
   "cell_type": "markdown",
   "id": "7d4490f2",
   "metadata": {},
   "source": [
    "## Winters, Alexander (V00970263)\n",
    "\n",
    "# Problem 2. Decisions"
   ]
  },
  {
   "cell_type": "markdown",
   "id": "470350b4",
   "metadata": {},
   "source": [
    "### Sources:"
   ]
  },
  {
   "cell_type": "markdown",
   "id": "d2c56bc8",
   "metadata": {},
   "source": [
    "https://medium.com/@lope.ai/decision-trees-from-scratch-using-id3-python-coding-it-up-6b79e3458de4\n",
    "\n",
    "https://medium.com/geekculture/step-by-step-decision-tree-id3-algorithm-from-scratch-in-python-no-fancy-library-4822bbfdd88f\n",
    "\n",
    "https://en.wikipedia.org/wiki/Decision_tree_learning\n",
    "\n",
    "https://en.wikipedia.org/wiki/ID3_algorithm\n",
    "\n",
    "https://www.youtube.com/watch?v=UdTKxGQvYdc"
   ]
  },
  {
   "cell_type": "code",
   "execution_count": 1,
   "id": "16631149",
   "metadata": {},
   "outputs": [],
   "source": [
    "import numpy as np\n",
    "np.random.seed(1337)"
   ]
  },
  {
   "cell_type": "code",
   "execution_count": 2,
   "id": "b68d2dbd",
   "metadata": {},
   "outputs": [],
   "source": [
    "import pandas as pd\n",
    "# Plotting support\n",
    "import matplotlib.pyplot as plt\n",
    "%matplotlib inline\n",
    "import seaborn as sns"
   ]
  },
  {
   "cell_type": "code",
   "execution_count": 3,
   "id": "7220cd5d",
   "metadata": {},
   "outputs": [
    {
     "data": {
      "text/plain": [
       "Index(['votes', 'unemployment', 'med_hh_inc', 'per_capita_inc',\n",
       "       'poverty_all_ages', 'deep_pov_all', 'deep_pov_children', 'population',\n",
       "       'total_area', 'pop_density', 'total_male', 'total_female',\n",
       "       'voter_turnout', 'democrat', 'county', 'state', 'education', 'religion',\n",
       "       'age_young', 'age_adult', 'age_old', 'ethnic_male', 'ethnic_female'],\n",
       "      dtype='object')"
      ]
     },
     "execution_count": 3,
     "metadata": {},
     "output_type": "execute_result"
    }
   ],
   "source": [
    "elections_df = pd.read_csv('elections_clean.csv', index_col=False)\n",
    "elections_df.columns"
   ]
  },
  {
   "cell_type": "code",
   "execution_count": 4,
   "id": "b2270e5a",
   "metadata": {},
   "outputs": [],
   "source": [
    "# Place the label vector at the end of the df\n",
    "label_vector = elections_df.pop('democrat')\n",
    "elections_df['democrat'] = label_vector\n",
    "\n",
    "# Take only the categorial features\n",
    "categorial_features = ['education', 'religion', 'ethnic_male', 'ethnic_female']"
   ]
  },
  {
   "cell_type": "code",
   "execution_count": 5,
   "id": "8e29890b",
   "metadata": {},
   "outputs": [],
   "source": [
    "# Calculate the entropy of the whole dataset\n",
    "def dataset_entropy(elections_data, attribute, attribute_list):\n",
    "    entropy_total = 0\n",
    "    \n",
    "    for value in attribute_list:\n",
    "        prob = elections_data[attribute].value_counts()[value] / elections_data[attribute].shape[0]\n",
    "        entropy_total += - prob * np.log2(prob)\n",
    " \n",
    "    return entropy_total"
   ]
  },
  {
   "cell_type": "code",
   "execution_count": 6,
   "id": "e2613165",
   "metadata": {},
   "outputs": [],
   "source": [
    "# Function to calculate entropy of each feature\n",
    "\n",
    "def entropy(elections_data, feature_name, attribute, attribute_list):\n",
    "    attribute_entropy = 0\n",
    "    variables = elections_data[feature_name].unique()\n",
    "    \n",
    "    for variable in variables:\n",
    "        feature_entropy = 0\n",
    "        \n",
    "        for target_value in attribute_list:\n",
    "            numerator = len(elections_data[feature_name][elections_data[feature_name] == variable][elections_data[attribute] == target_value])\n",
    "            denominator = len(elections_data[feature_name][elections_data[feature_name] == variable])\n",
    "            frac = numerator / (denominator + np.finfo(float).eps)\n",
    "            feature_entropy += - frac * np.log2(frac + np.finfo(float).eps)\n",
    "        \n",
    "        frac2 = denominator / elections_data.shape[0]\n",
    "        attribute_entropy += -frac2 * feature_entropy\n",
    "    \n",
    "    return abs(attribute_entropy)"
   ]
  },
  {
   "cell_type": "code",
   "execution_count": 7,
   "id": "ec9461a8",
   "metadata": {},
   "outputs": [],
   "source": [
    "# Determines information gain of each feature\n",
    "\n",
    "def information_gain(elections_data, feature_name, attribute, attribute_list):\n",
    "    return (dataset_entropy(elections_data, attribute, attribute_list) - entropy(elections_data, feature_name, attribute, attribute_list))"
   ]
  },
  {
   "cell_type": "code",
   "execution_count": 8,
   "id": "84cdfc50",
   "metadata": {},
   "outputs": [],
   "source": [
    "# Returns feature with max information gain\n",
    "def max_info_gain(elections_data, attribute, attribute_list, categorial_features):\n",
    "    max_feature_gains = {}\n",
    "    \n",
    "    for feature in categorial_features:\n",
    "        feature_ig = information_gain(elections_data, feature, attribute, attribute_list)\n",
    "        max_feature_gains[feature] = feature_ig\n",
    "        \n",
    "    return max(max_feature_gains, key=max_feature_gains.get)"
   ]
  },
  {
   "cell_type": "code",
   "execution_count": 9,
   "id": "060e2971",
   "metadata": {},
   "outputs": [],
   "source": [
    "def ID3(elections_data, attribute, categorial_features, parent=None):\n",
    "    # Check if label vector is pure and return it to go back up the tree\n",
    "    if len(np.unique(elections_data[attribute])) <= 1:\n",
    "        return np.unique(elections_data[attribute])[0]\n",
    "    \n",
    "    # Check if we reached the end of the branch which returns the parent and goes up the tree\n",
    "    if len(categorial_features) == 0:\n",
    "        return parent\n",
    "    \n",
    "    best_feature = max_info_gain(elections_data, attribute, attribute_list, categorial_features)\n",
    "    best_feature_values, value_counts = np.unique(elections_data[best_feature], return_counts=True)\n",
    "    # Make the parent node the most common element\n",
    "    # Gets rid of values equal to 'None'\n",
    "    parent = elections_data[attribute].mode()[0]\n",
    "    \n",
    "    tree = {best_feature:{}}\n",
    "    # Remove the best feature from our feature list\n",
    "    feats = [i for i in categorial_features if i != best_feature]\n",
    "\n",
    "    for value in best_feature_values:\n",
    "        subset = elections_data[elections_data[best_feature] == value].reset_index(drop=True)\n",
    "        tree[best_feature][value] = ID3(subset, attribute, feats, parent)\n",
    "\n",
    "    return tree\n",
    "            "
   ]
  },
  {
   "cell_type": "code",
   "execution_count": 10,
   "id": "f75232b6",
   "metadata": {},
   "outputs": [],
   "source": [
    "attribute = 'democrat'\n",
    "elections_data = elections_df.copy()\n",
    "attribute_list = elections_data[attribute].unique()"
   ]
  },
  {
   "cell_type": "code",
   "execution_count": 11,
   "id": "4e643b3b",
   "metadata": {},
   "outputs": [],
   "source": [
    "# Shuffle data for 70/30 split into training and validation sets\n",
    "shuffled_dataset = elections_df.sample(frac=1).reset_index(drop=True)\n",
    "split = int(elections_df.shape[0] * 0.7)\n",
    "\n",
    "X_train = shuffled_dataset.iloc[:split].reset_index(drop=True)\n",
    "X_test = shuffled_dataset.iloc[split:].reset_index(drop=True)"
   ]
  },
  {
   "cell_type": "code",
   "execution_count": 12,
   "id": "df28da94",
   "metadata": {},
   "outputs": [],
   "source": [
    "def predict(tree, instance):\n",
    "    # Check if tree is dictionary\n",
    "    if not isinstance(tree, dict):\n",
    "        return tree\n",
    "    else:\n",
    "        # Make the 'root' the next element of the tree\n",
    "        root = next(iter(tree))\n",
    "        feature = instance[root]\n",
    "        \n",
    "        if feature in tree[root]:\n",
    "            return predict(tree[root][feature], instance)\n",
    "        else:\n",
    "            return None"
   ]
  },
  {
   "cell_type": "code",
   "execution_count": 13,
   "id": "a159e0ae",
   "metadata": {},
   "outputs": [],
   "source": [
    "def validate(tree, validation_set):\n",
    "    correct = 0\n",
    "    wrong = 0\n",
    "    \n",
    "    for index, row in validation_set.iterrows():\n",
    "        result = predict(tree, validation_set.iloc[index])\n",
    "        if result == validation_set['democrat'].iloc[index]:\n",
    "            correct += 1\n",
    "        else:\n",
    "            wrong += 1\n",
    "            \n",
    "    accuracy = correct / (correct + wrong) * 100\n",
    "    return accuracy    "
   ]
  },
  {
   "cell_type": "code",
   "execution_count": 14,
   "id": "3d075309",
   "metadata": {},
   "outputs": [
    {
     "name": "stdout",
     "output_type": "stream",
     "text": [
      "The training accuracy of the Decision-Tree: 89.91367560199909 %\n",
      "The training error of the Decision-Tree: 10.086324398000912 %\n",
      "\n",
      "The validation accuracy of the Decision-Tree: 87.07627118644068 %\n",
      "The validation error of the Decision-Tree: 12.923728813559322 %\n",
      "\n",
      "\n"
     ]
    }
   ],
   "source": [
    "DTree = ID3(X_train, attribute, categorial_features)\n",
    "train_acc = validate(DTree, X_train)\n",
    "train_err = 100 - train_acc\n",
    "\n",
    "print(\"The training accuracy of the Decision-Tree: \" + str(train_acc) + \" %\")\n",
    "print(\"The training error of the Decision-Tree: \" + str(train_err) + \" %\\n\")\n",
    "\n",
    "test_acc = validate(DTree, X_test)\n",
    "test_err = 100 - test_acc\n",
    "\n",
    "print(\"The validation accuracy of the Decision-Tree: \" + str(test_acc) + \" %\")\n",
    "print(\"The validation error of the Decision-Tree: \" + str(test_err) + \" %\\n\")\n",
    "print()"
   ]
  },
  {
   "cell_type": "code",
   "execution_count": 15,
   "id": "0981e3f0",
   "metadata": {
    "scrolled": true
   },
   "outputs": [
    {
     "name": "stdout",
     "output_type": "stream",
     "text": [
      "{'ethnic_male': {'Asian Male': {'religion': {'Catholic': {'education': {\"Bachelor's Degree or Higher\": 0,\n",
      "                                                                        'Less than High School Diploma': 0,\n",
      "                                                                        'Only High School Diploma': {'ethnic_female': {'Black Female': 0,\n",
      "                                                                                                                       'Native American Female': 0}},\n",
      "                                                                        \"Some College or Associate's Degree\": {'ethnic_female': {'Black Female': 0,\n",
      "                                                                                                                                 'Native American Female': 0}}}},\n",
      "                                             'Christian Generic': {'education': {\"Bachelor's Degree or Higher\": 0,\n",
      "                                                                                 \"Some College or Associate's Degree\": 1}},\n",
      "                                             'Mainline Christian': {'education': {\"Bachelor's Degree or Higher\": {'ethnic_female': {'Black Female': 0,\n",
      "                                                                                                                                    'Native American Female': 0}},\n",
      "                                                                                  'Less than High School Diploma': {'ethnic_female': {'Black Female': 0,\n",
      "                                                                                                                                      'Native American Female': 0}},\n",
      "                                                                                  'Only High School Diploma': {'ethnic_female': {'Black Female': 1,\n",
      "                                                                                                                                 'Native American Female': 1}},\n",
      "                                                                                  \"Some College or Associate's Degree\": {'ethnic_female': {'Black Female': 0,\n",
      "                                                                                                                                           'Native American Female': 1}}}},\n",
      "                                             'Mormon': 0,\n",
      "                                             'NON-Catholic CHRISTIAN': {'education': {\"Bachelor's Degree or Higher\": 0,\n",
      "                                                                                      'Less than High School Diploma': 0,\n",
      "                                                                                      'Only High School Diploma': 0,\n",
      "                                                                                      \"Some College or Associate's Degree\": 1}},\n",
      "                                             'Other': {'education': {\"Bachelor's Degree or Higher\": 1,\n",
      "                                                                     'Less than High School Diploma': {'ethnic_female': {'Black Female': 1,\n",
      "                                                                                                                         'Native American Female': 1}},\n",
      "                                                                     'Only High School Diploma': {'ethnic_female': {'Black Female': 1,\n",
      "                                                                                                                    'Native American Female': 1}},\n",
      "                                                                     \"Some College or Associate's Degree\": {'ethnic_female': {'Black Female': 1}}}},\n",
      "                                             'Other CHRISTIAN': 0,\n",
      "                                             'Other MISC': {'education': {\"Bachelor's Degree or Higher\": 0,\n",
      "                                                                          'Less than High School Diploma': {'ethnic_female': {'Black Female': 0,\n",
      "                                                                                                                              'Native American Female': 1}},\n",
      "                                                                          'Only High School Diploma': {'ethnic_female': {'Black Female': 1,\n",
      "                                                                                                                         'Native American Female': 1}}}},\n",
      "                                             'Pentecostal / Charismatic': {'education': {'Less than High School Diploma': 0,\n",
      "                                                                                         'Only High School Diploma': {'ethnic_female': {'Black Female': 1,\n",
      "                                                                                                                                        'Native American Female': 0}}}}}},\n",
      "                 'Black Male': {'education': {\"Bachelor's Degree or Higher\": {'ethnic_female': {'Black Female': {'religion': {'Catholic': 0,\n",
      "                                                                                                                              'Christian Generic': 0,\n",
      "                                                                                                                              'Jewish': 0,\n",
      "                                                                                                                              'Mainline Christian': 0,\n",
      "                                                                                                                              'Mormon': 0,\n",
      "                                                                                                                              'NON-Catholic CHRISTIAN': 0,\n",
      "                                                                                                                              'Other': 0,\n",
      "                                                                                                                              'Other CHRISTIAN': 0,\n",
      "                                                                                                                              'Other MISC': 0,\n",
      "                                                                                                                              'Pentecostal / Charismatic': 0}},\n",
      "                                                                                                'Native American Female': 0,\n",
      "                                                                                                'White Female': {'religion': {'Mainline Christian': 1,\n",
      "                                                                                                                              'NON-Catholic CHRISTIAN': 1}}}},\n",
      "                                              'Less than High School Diploma': {'ethnic_female': {'Black Female': {'religion': {'Catholic': 0,\n",
      "                                                                                                                                'Christian Generic': 0,\n",
      "                                                                                                                                'Jewish': 1,\n",
      "                                                                                                                                'Mainline Christian': 0,\n",
      "                                                                                                                                'Mormon': 0,\n",
      "                                                                                                                                'Muslim': 0,\n",
      "                                                                                                                                'NON-Catholic CHRISTIAN': 0,\n",
      "                                                                                                                                'Other CHRISTIAN': 0,\n",
      "                                                                                                                                'Other MISC': 0,\n",
      "                                                                                                                                'Pentecostal / Charismatic': 0}},\n",
      "                                                                                                  'Native American Female': 0,\n",
      "                                                                                                  'White Female': {'religion': {'Mainline Christian': 1,\n",
      "                                                                                                                                'NON-Catholic CHRISTIAN': 1,\n",
      "                                                                                                                                'Other CHRISTIAN': 1}}}},\n",
      "                                              'Only High School Diploma': {'religion': {'Amish': 0,\n",
      "                                                                                        'Catholic': {'ethnic_female': {'Black Female': 0,\n",
      "                                                                                                                       'Native American Female': 0,\n",
      "                                                                                                                       'White Female': 1}},\n",
      "                                                                                        'Christian Generic': 0,\n",
      "                                                                                        'Mainline Christian': {'ethnic_female': {'Black Female': 0,\n",
      "                                                                                                                                 'Native American Female': 0}},\n",
      "                                                                                        'Mormon': {'ethnic_female': {'Black Female': 0}},\n",
      "                                                                                        'NON-Catholic CHRISTIAN': {'ethnic_female': {'Black Female': 1,\n",
      "                                                                                                                                     'Native American Female': 1,\n",
      "                                                                                                                                     'White Female': 1}},\n",
      "                                                                                        'Other': {'ethnic_female': {'Black Female': 0,\n",
      "                                                                                                                    'Native American Female': 0}},\n",
      "                                                                                        'Other CHRISTIAN': {'ethnic_female': {'Black Female': 0}},\n",
      "                                                                                        'Other MISC': {'ethnic_female': {'Black Female': 1}},\n",
      "                                                                                        'Protestant Denomination': 0}},\n",
      "                                              \"Some College or Associate's Degree\": {'religion': {'Amish': 1,\n",
      "                                                                                                  'Catholic': {'ethnic_female': {'Black Female': 0,\n",
      "                                                                                                                                 'Native American Female': 0}},\n",
      "                                                                                                  'Christian Generic': {'ethnic_female': {'Black Female': 1,\n",
      "                                                                                                                                          'Native American Female': 0}},\n",
      "                                                                                                  'Mainline Christian': {'ethnic_female': {'Black Female': 0,\n",
      "                                                                                                                                           'Native American Female': 1,\n",
      "                                                                                                                                           'White Female': 1}},\n",
      "                                                                                                  'NON-Catholic CHRISTIAN': {'ethnic_female': {'Black Female': 0,\n",
      "                                                                                                                                               'Native American Female': 0}},\n",
      "                                                                                                  'Other': {'ethnic_female': {'Black Female': 1}},\n",
      "                                                                                                  'Other CHRISTIAN': 0,\n",
      "                                                                                                  'Other MISC': 0,\n",
      "                                                                                                  'Pentecostal / Charismatic': {'ethnic_female': {'Black Female': 0}}}}}},\n",
      "                 'Hawaiian Pacific Male': 0,\n",
      "                 'Multi Male': {'education': {\"Bachelor's Degree or Higher\": {'religion': {'Amish': 0,\n",
      "                                                                                           'Catholic': 0,\n",
      "                                                                                           'Christian Generic': 0,\n",
      "                                                                                           'Mainline Christian': {'ethnic_female': {'Black Female': 0,\n",
      "                                                                                                                                    'Native American Female': 0}},\n",
      "                                                                                           'Mormon': 0,\n",
      "                                                                                           'Muslim': 0,\n",
      "                                                                                           'NON-Catholic CHRISTIAN': 0,\n",
      "                                                                                           'Other': {'ethnic_female': {'Native American Female': 0}},\n",
      "                                                                                           'Other CHRISTIAN': 0,\n",
      "                                                                                           'Other MISC': 0,\n",
      "                                                                                           'Pentecostal / Charismatic': 0}},\n",
      "                                              'Less than High School Diploma': 0,\n",
      "                                              'Only High School Diploma': {'religion': {'Amish': 0,\n",
      "                                                                                        'Catholic': 0,\n",
      "                                                                                        'Mainline Christian': {'ethnic_female': {'Black Female': 0,\n",
      "                                                                                                                                 'Native American Female': 0}},\n",
      "                                                                                        'Mormon': 0,\n",
      "                                                                                        'Other': {'ethnic_female': {'Black Female': 1,\n",
      "                                                                                                                    'Native American Female': 1}},\n",
      "                                                                                        'Other CHRISTIAN': 0,\n",
      "                                                                                        'Other MISC': {'ethnic_female': {'Native American Female': 0}}}},\n",
      "                                              \"Some College or Associate's Degree\": {'religion': {'Amish': 0,\n",
      "                                                                                                  'Catholic': 0,\n",
      "                                                                                                  'Christian Generic': 1,\n",
      "                                                                                                  'Mainline Christian': {'ethnic_female': {'Black Female': 0,\n",
      "                                                                                                                                           'Hawaiian Pacific Female': 0,\n",
      "                                                                                                                                           'Native American Female': 0}},\n",
      "                                                                                                  'NON-Catholic CHRISTIAN': 0,\n",
      "                                                                                                  'Other CHRISTIAN': 0,\n",
      "                                                                                                  'Other MISC': 0,\n",
      "                                                                                                  'Pentecostal / Charismatic': 0}}}},\n",
      "                 'Native American Male': {'religion': {'Amish': {'education': {\"Bachelor's Degree or Higher\": {'ethnic_female': {'Native American Female': 0}}}},\n",
      "                                                       'Catholic': {'education': {\"Bachelor's Degree or Higher\": 0,\n",
      "                                                                                  'Less than High School Diploma': 0,\n",
      "                                                                                  'Only High School Diploma': {'ethnic_female': {'Native American Female': 0}}}},\n",
      "                                                       'Christian Generic': {'education': {\"Bachelor's Degree or Higher\": 0,\n",
      "                                                                                           'Less than High School Diploma': 0,\n",
      "                                                                                           'Only High School Diploma': 1,\n",
      "                                                                                           \"Some College or Associate's Degree\": 0}},\n",
      "                                                       'Mainline Christian': {'education': {\"Bachelor's Degree or Higher\": {'ethnic_female': {'Black Female': 0,\n",
      "                                                                                                                                              'Native American Female': 0,\n",
      "                                                                                                                                              'White Female': 0}},\n",
      "                                                                                            'Less than High School Diploma': {'ethnic_female': {'Native American Female': 0}},\n",
      "                                                                                            'Only High School Diploma': {'ethnic_female': {'Black Female': 0,\n",
      "                                                                                                                                           'Native American Female': 0}},\n",
      "                                                                                            \"Some College or Associate's Degree\": 0}},\n",
      "                                                       'Mormon': {'education': {\"Bachelor's Degree or Higher\": 0,\n",
      "                                                                                'Less than High School Diploma': {'ethnic_female': {'Native American Female': 0}},\n",
      "                                                                                'Only High School Diploma': 1}},\n",
      "                                                       'NON-Catholic CHRISTIAN': {'education': {\"Bachelor's Degree or Higher\": {'ethnic_female': {'Native American Female': 0}},\n",
      "                                                                                                'Less than High School Diploma': 0,\n",
      "                                                                                                'Only High School Diploma': 1,\n",
      "                                                                                                \"Some College or Associate's Degree\": {'ethnic_female': {'Black Female': 0,\n",
      "                                                                                                                                                         'Native American Female': 0}}}},\n",
      "                                                       'Other': {'ethnic_female': {'Black Female': 0,\n",
      "                                                                                   'Native American Female': {'education': {\"Bachelor's Degree or Higher\": 0,\n",
      "                                                                                                                            'Less than High School Diploma': 0,\n",
      "                                                                                                                            'Only High School Diploma': 0}}}},\n",
      "                                                       'Other CHRISTIAN': 0,\n",
      "                                                       'Other MISC': 0,\n",
      "                                                       'Pentecostal / Charismatic': {'education': {'Less than High School Diploma': {'ethnic_female': {'Native American Female': 0,\n",
      "                                                                                                                                                       'White Female': 0}},\n",
      "                                                                                                   'Only High School Diploma': 1}}}},\n",
      "                 'White Male': {'ethnic_female': {'Black Female': 0,\n",
      "                                                  'Hawaiian Pacific Female': 1,\n",
      "                                                  'White Female': {'religion': {'Catholic': {'education': {\"Bachelor's Degree or Higher\": 1,\n",
      "                                                                                                           'Less than High School Diploma': 0}},\n",
      "                                                                                'Christian Generic': 1,\n",
      "                                                                                'Mainline Christian': {'education': {\"Bachelor's Degree or Higher\": 1,\n",
      "                                                                                                                     'Less than High School Diploma': 1,\n",
      "                                                                                                                     'Only High School Diploma': 1,\n",
      "                                                                                                                     \"Some College or Associate's Degree\": 1}},\n",
      "                                                                                'Muslim': 1,\n",
      "                                                                                'NON-Catholic CHRISTIAN': 1,\n",
      "                                                                                'Other': {'education': {\"Bachelor's Degree or Higher\": 1}},\n",
      "                                                                                'Other CHRISTIAN': 1,\n",
      "                                                                                'Other MISC': 1,\n",
      "                                                                                'Pentecostal / Charismatic': 1}}}}}}\n"
     ]
    }
   ],
   "source": [
    "import pprint\n",
    "pprint.pprint(DTree)"
   ]
  },
  {
   "cell_type": "code",
   "execution_count": 16,
   "id": "df8f24bb",
   "metadata": {},
   "outputs": [],
   "source": [
    "def num_stumps(DTree,  stumps = {}): \n",
    "    for feature in list(DTree):\n",
    "        # Check if stump is a leaf node or sub tree\n",
    "        stump = DTree[feature]\n",
    "        \n",
    "        # If not a leaf node, check if stump has been seen before and add to count\n",
    "        if stump != 1 and stump != 0:\n",
    "            if feature in stumps:\n",
    "                stumps[feature] += 1\n",
    "            else:\n",
    "                stumps[feature] = 1\n",
    "            \n",
    "            num_stumps(stump, stumps)\n",
    "        \n",
    "    return stumps"
   ]
  },
  {
   "cell_type": "code",
   "execution_count": 17,
   "id": "85809fea",
   "metadata": {
    "scrolled": true
   },
   "outputs": [
    {
     "name": "stdout",
     "output_type": "stream",
     "text": [
      "The features in the Decision-Tree and their repitition in decision stumps:\n",
      "\n",
      "ethnic_male: 1\n",
      "Asian Male: 1\n",
      "religion: 12\n",
      "Catholic: 5\n",
      "education: 20\n",
      "Only High School Diploma: 9\n",
      "ethnic_female: 44\n",
      "Some College or Associate's Degree: 6\n",
      "Christian Generic: 3\n",
      "Mainline Christian: 8\n",
      "Bachelor's Degree or Higher: 6\n",
      "Less than High School Diploma: 7\n",
      "NON-Catholic CHRISTIAN: 4\n",
      "Other: 7\n",
      "Other MISC: 3\n",
      "Pentecostal / Charismatic: 3\n",
      "Black Male: 1\n",
      "Black Female: 2\n",
      "White Female: 3\n",
      "Mormon: 2\n",
      "Other CHRISTIAN: 1\n",
      "Multi Male: 1\n",
      "Native American Male: 1\n",
      "Amish: 1\n",
      "Native American Female: 1\n",
      "White Male: 1\n"
     ]
    }
   ],
   "source": [
    "stumps = num_stumps(DTree)\n",
    "print(\"The features in the Decision-Tree and their repitition in decision stumps:\\n\")\n",
    "for stump in stumps:\n",
    "    print(stump + \": \" + str(stumps[stump]))"
   ]
  },
  {
   "cell_type": "code",
   "execution_count": 18,
   "id": "d0aa7c96",
   "metadata": {},
   "outputs": [],
   "source": [
    "def tree_depth(DTree, prev_depth, stumps = {}):\n",
    "    curr_depth = prev_depth\n",
    "    \n",
    "    for feature in list(DTree):\n",
    "        # Check if stump is a leaf node or sub tree\n",
    "        stump = DTree[feature]\n",
    "        # If not a leaf node, add to depth count\n",
    "        if stump != 1 and stump != 0:\n",
    "            depth = tree_depth(stump, prev_depth + 1, stumps)\n",
    "            # Take the larger depth of our stumps\n",
    "            curr_depth = max(depth, curr_depth)\n",
    "\n",
    "    return curr_depth"
   ]
  },
  {
   "cell_type": "code",
   "execution_count": 19,
   "id": "e0e2bde9",
   "metadata": {},
   "outputs": [
    {
     "name": "stdout",
     "output_type": "stream",
     "text": [
      "Maximum Depth of Decision-Tree is: 8\n"
     ]
    }
   ],
   "source": [
    "max_depth = tree_depth(DTree, 1)\n",
    "print(\"Maximum Depth of Decision-Tree is: \" + str(max_depth))"
   ]
  }
 ],
 "metadata": {
  "kernelspec": {
   "display_name": "Python 3 (ipykernel)",
   "language": "python",
   "name": "python3"
  },
  "language_info": {
   "codemirror_mode": {
    "name": "ipython",
    "version": 3
   },
   "file_extension": ".py",
   "mimetype": "text/x-python",
   "name": "python",
   "nbconvert_exporter": "python",
   "pygments_lexer": "ipython3",
   "version": "3.10.6"
  }
 },
 "nbformat": 4,
 "nbformat_minor": 5
}
